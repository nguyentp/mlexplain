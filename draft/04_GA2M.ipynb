{
 "cells": [
  {
   "cell_type": "markdown",
   "metadata": {
    "toc": true
   },
   "source": [
    "<h1>Table of Contents<span class=\"tocSkip\"></span></h1>\n",
    "<div class=\"toc\"><ul class=\"toc-item\"><li><span><a href=\"#GA2M\" data-toc-modified-id=\"GA2M-1\">GA2M</a></span><ul class=\"toc-item\"><li><span><a href=\"#Linear-Model-Problems-and-how-to-fix?\" data-toc-modified-id=\"Linear-Model-Problems-and-how-to-fix?-1.1\">Linear Model Problems and how to fix?</a></span></li><li><span><a href=\"#Fix-1:-Generalized-Linear-Model-(GLM)\" data-toc-modified-id=\"Fix-1:-Generalized-Linear-Model-(GLM)-1.2\">Fix 1: Generalized Linear Model (GLM)</a></span></li><li><span><a href=\"#Fix-2:-Add-interactive-terms-manually\" data-toc-modified-id=\"Fix-2:-Add-interactive-terms-manually-1.3\">Fix 2: Add interactive terms <em>manually</em></a></span></li><li><span><a href=\"#Fix-3:-Add-Non-Linear-effect\" data-toc-modified-id=\"Fix-3:-Add-Non-Linear-effect-1.4\">Fix 3: Add Non-Linear effect</a></span></li><li><span><a href=\"#Improve-of-GAM:-GA2M\" data-toc-modified-id=\"Improve-of-GAM:-GA2M-1.5\">Improve of GAM: GA2M</a></span></li><li><span><a href=\"#Reference\" data-toc-modified-id=\"Reference-1.6\">Reference</a></span></li></ul></li><li><span><a href=\"#When-to-use-GAM?\" data-toc-modified-id=\"When-to-use-GAM?-2\">When to use GAM?</a></span></li><li><span><a href=\"#When-to-use-GA2M?\" data-toc-modified-id=\"When-to-use-GA2M?-3\">When to use GA2M?</a></span></li><li><span><a href=\"#When-not-to-use-GA2M?\" data-toc-modified-id=\"When-not-to-use-GA2M?-4\">When not to use GA2M?</a></span></li><li><span><a href=\"#Demo:-interpret-library\" data-toc-modified-id=\"Demo:-interpret-library-5\">Demo: <code>interpret</code> library</a></span></li></ul></div>"
   ]
  },
  {
   "cell_type": "markdown",
   "metadata": {},
   "source": [
    "# GA2M\n",
    "\n",
    "## Linear Model Problems and how to fix?\n",
    "\n",
    "$$\n",
    "y=\\beta_{0}+\\beta_{1}x_{1}+\\ldots+\\beta_{p}x_{p}+\\epsilon\n",
    "$$\n",
    "\n",
    "Assumptions of linear model:\n",
    "\n",
    "1. Target is Normal Distribution.\n",
    "2. Additivity (no feature interaction).\n",
    "3. Linear Relationship between target and features.\n",
    "\n",
    "## Fix 1: Generalized Linear Model (GLM)\n",
    "\n",
    "Because target is not Normal Distribution, for example: Poisson distribution. We just link the prediction of linear to Poisson distribution. How?\n",
    "\n",
    "- Get average target given current features value: $E_Y(y|x)$\n",
    "- Link this value to target distribution (e.g. Poisson): $g(E_Y(y|x))$. $g$ is the link function.\n",
    "- Learn the link function with linear model.\n",
    "\n",
    "Then we have GLM.\n",
    "\n",
    "$$\n",
    "g(E_Y(y|x))=\\beta_0+\\beta_1{}x_{1}+\\ldots{}\\beta_p{}x_{p}\n",
    "$$\n",
    "\n",
    "## Fix 2: Add interactive terms *manually*\n",
    "\n",
    "There are several ways to add interaction:\n",
    "- Just Cross features together: $x1.x2$, $x1.x2.x3$\n",
    "- Add polynomial features: $x^2$, $x^3$\n",
    "\n",
    "Heuristics and labor works!\n",
    "\n",
    "\n",
    "## Fix 3: Add Non-Linear effect\n",
    "\n",
    "There are several ways:\n",
    "\n",
    "- Transform features so it has linear relationship with features. We can apply log(), exp(), sqrt(), etc. on each feature. If we are luck, we can achieve a nice linear relationship. For example, if we apply a sqrt() on feature A, then to explain weight of feature A now is harder than before: 1 change in sqrt() of A will change target by an amount weight.\n",
    "- Categorize feature into buckets -> one-hot-encoding. Why this works? Why this is not a good idea at all? (left as excercise).\n",
    "- Use Generalized Addictive Models (GAM)\n",
    "\n",
    "Lets talk about GAM. Idea is simple: We replace $\\beta_i{}x_i$ by $f_i(x_i)$. This new function will learn the non-linear pattern in feature x.\n",
    "\n",
    "$$\n",
    "g(E_Y(y|x))=\\beta_0+f_1(x_{1})+f_2(x_{2})+\\ldots+f_p(x_{p})\n",
    "$$\n",
    "\n",
    "- In GAM, $f$ is spline function. Spline functions is list of functions when combine together will create a curve.\n",
    "- Each function in $f$ is a polynomial.\n",
    "- In below pictures, to estimate the non-linear curve between target and temperature, we use a spline function which has 4 polynomials.\n",
    "- Each spline function add value to final prediction. That is where \"addictive\" comes in.\n",
    "\n",
    "<img src=\"https://christophm.github.io/interpretable-ml-book/images/splines-1.png\" width=\"600\" height=\"600\">\n",
    "\n",
    "GAM is able to capture Non-Linear relationship and works on any outcome distribution. It is complicated but it is still a glass-box model. We can interpret each feature effect independently.\n",
    "\n",
    "## Improve of GAM: GA2M\n",
    "\n",
    "GA2M add interaction of features into GAM. \n",
    "\n",
    "<img src=\"https://blog.fiddler.ai/wp-content/uploads/2019/06/ga2m_eq-1200x188.png\" width=\"400\" width=\"400\">\n",
    "\n",
    "- Interactions between any pair of 2 features will be another addictive term in GAM equation.\n",
    "- It is impractical to find all interactions.\n",
    "- A better way is to incorporate top N interactions to final model.\n",
    "\n",
    "Now, linear model is more complicated, but it is still a glassbox.\n",
    "\n",
    "## Reference\n",
    "\n",
    "- [A gentle introduction to GA2Ms, a white box model](https://blog.fiddler.ai/2019/06/a-gentle-introduction-to-ga2ms-a-white-box-model/)\n",
    "- [Interpretable Machine Learning, chapter 4.3.](https://christophm.github.io/interpretable-ml-book/)\n",
    "\n",
    "# When to use GAM?\n",
    "\n",
    "When we want a glassbox model and it is significantly better than Linear model.\n",
    "\n",
    "# When to use GA2M?\n",
    "\n",
    "When we want a glassbox model and it is significantly better than GA2M model.\n",
    "\n",
    "# When not to use GA2M?\n",
    "\n",
    "When we can use a blackbox model and blackbox model is far more accurate than GA2M."
   ]
  },
  {
   "cell_type": "markdown",
   "metadata": {},
   "source": [
    "# Demo: `interpret` library"
   ]
  },
  {
   "cell_type": "code",
   "execution_count": 1,
   "metadata": {
    "ExecuteTime": {
     "end_time": "2020-06-25T04:04:22.599165Z",
     "start_time": "2020-06-25T04:04:20.471463Z"
    }
   },
   "outputs": [],
   "source": [
    "import pandas as pd\n",
    "from sklearn.model_selection import train_test_split\n",
    "from tabkit import opendata"
   ]
  },
  {
   "cell_type": "code",
   "execution_count": 2,
   "metadata": {
    "ExecuteTime": {
     "end_time": "2020-06-25T04:04:22.640575Z",
     "start_time": "2020-06-25T04:04:22.601904Z"
    }
   },
   "outputs": [],
   "source": [
    "Xtrain, Xtest, ytrain, ytest = opendata.ToyRegression().load()"
   ]
  },
  {
   "cell_type": "code",
   "execution_count": 3,
   "metadata": {
    "ExecuteTime": {
     "end_time": "2020-06-25T04:04:22.673837Z",
     "start_time": "2020-06-25T04:04:22.649497Z"
    }
   },
   "outputs": [
    {
     "data": {
      "text/plain": [
       "(22.907915567282323, 9.429546081039085)"
      ]
     },
     "execution_count": 3,
     "metadata": {},
     "output_type": "execute_result"
    }
   ],
   "source": [
    "ytrain.mean(), ytrain.std()"
   ]
  },
  {
   "cell_type": "code",
   "execution_count": 4,
   "metadata": {
    "ExecuteTime": {
     "end_time": "2020-06-25T04:04:25.536673Z",
     "start_time": "2020-06-25T04:04:22.694646Z"
    }
   },
   "outputs": [
    {
     "data": {
      "text/html": [
       "<!-- http://127.0.0.1:7984/140655903834576/ -->\n",
       "<iframe src=\"http://127.0.0.1:7984/140655903834576/\" width=100% height=800 frameBorder=\"0\"></iframe>"
      ]
     },
     "metadata": {},
     "output_type": "display_data"
    }
   ],
   "source": [
    "from interpret import show\n",
    "from interpret.data import Marginal\n",
    "\n",
    "marginal = Marginal().explain_data(Xtrain, ytrain, name = 'Train Data')\n",
    "show(marginal)"
   ]
  },
  {
   "cell_type": "code",
   "execution_count": 5,
   "metadata": {
    "ExecuteTime": {
     "end_time": "2020-06-25T04:08:58.917104Z",
     "start_time": "2020-06-25T04:04:25.592967Z"
    }
   },
   "outputs": [
    {
     "data": {
      "text/plain": [
       "ExplainableBoostingRegressor(feature_names=['CRIM', 'ZN', 'INDUS', 'CHAS',\n",
       "                                            'NOX', 'RM', 'AGE', 'DIS', 'RAD',\n",
       "                                            'TAX', 'PTRATIO', 'B', 'LSTAT',\n",
       "                                            'RM x TAX', 'INDUS x LSTAT',\n",
       "                                            'DIS x LSTAT'],\n",
       "                             feature_types=['continuous', 'continuous',\n",
       "                                            'continuous', 'categorical',\n",
       "                                            'continuous', 'continuous',\n",
       "                                            'continuous', 'continuous',\n",
       "                                            'continuous', 'continuous',\n",
       "                                            'continuous', 'continuous',\n",
       "                                            'continuous', 'pairwise',\n",
       "                                            'pairwise', 'pairwise'],\n",
       "                             interactions=3, random_state=0)"
      ]
     },
     "execution_count": 5,
     "metadata": {},
     "output_type": "execute_result"
    }
   ],
   "source": [
    "# GA2M model\n",
    "from interpret.glassbox import ExplainableBoostingRegressor\n",
    "\n",
    "\n",
    "# Pick top 3 interaction\n",
    "# Set interacton=0 to use GAM\n",
    "ebm = ExplainableBoostingRegressor(random_state=0, interactions=3)\n",
    "ebm.fit(Xtrain, ytrain)"
   ]
  },
  {
   "cell_type": "code",
   "execution_count": 6,
   "metadata": {
    "ExecuteTime": {
     "end_time": "2020-06-25T04:08:59.012311Z",
     "start_time": "2020-06-25T04:08:58.928210Z"
    }
   },
   "outputs": [
    {
     "data": {
      "text/html": [
       "<!-- http://127.0.0.1:7984/140655959642352/ -->\n",
       "<iframe src=\"http://127.0.0.1:7984/140655959642352/\" width=100% height=800 frameBorder=\"0\"></iframe>"
      ]
     },
     "metadata": {},
     "output_type": "display_data"
    }
   ],
   "source": [
    "from interpret.perf import RegressionPerf\n",
    "\n",
    "\n",
    "ebm_perf = RegressionPerf(ebm.predict).explain_perf(Xtest, ytest, name='EBM')\n",
    "show(ebm_perf)"
   ]
  },
  {
   "cell_type": "code",
   "execution_count": 7,
   "metadata": {
    "ExecuteTime": {
     "end_time": "2020-06-25T04:08:59.577326Z",
     "start_time": "2020-06-25T04:08:59.083105Z"
    }
   },
   "outputs": [
    {
     "data": {
      "text/html": [
       "<!-- http://127.0.0.1:7984/140655956007736/ -->\n",
       "<iframe src=\"http://127.0.0.1:7984/140655956007736/\" width=100% height=800 frameBorder=\"0\"></iframe>"
      ]
     },
     "metadata": {},
     "output_type": "display_data"
    }
   ],
   "source": [
    "ebm_global = ebm.explain_global(name='EBM')\n",
    "show(ebm_global)"
   ]
  },
  {
   "cell_type": "code",
   "execution_count": 8,
   "metadata": {
    "ExecuteTime": {
     "end_time": "2020-06-25T04:08:59.850278Z",
     "start_time": "2020-06-25T04:08:59.668632Z"
    }
   },
   "outputs": [
    {
     "data": {
      "text/html": [
       "<!-- http://127.0.0.1:7984/140655963122040/ -->\n",
       "<iframe src=\"http://127.0.0.1:7984/140655963122040/\" width=100% height=800 frameBorder=\"0\"></iframe>"
      ]
     },
     "metadata": {},
     "output_type": "display_data"
    }
   ],
   "source": [
    "ebm_local = ebm.explain_local(Xtest[:5], ytest[:5], name='EBM')\n",
    "show(ebm_local)"
   ]
  },
  {
   "cell_type": "code",
   "execution_count": null,
   "metadata": {},
   "outputs": [],
   "source": []
  }
 ],
 "metadata": {
  "kernelspec": {
   "display_name": "Python 3",
   "language": "python",
   "name": "python3"
  },
  "language_info": {
   "codemirror_mode": {
    "name": "ipython",
    "version": 3
   },
   "file_extension": ".py",
   "mimetype": "text/x-python",
   "name": "python",
   "nbconvert_exporter": "python",
   "pygments_lexer": "ipython3",
   "version": "3.7.6"
  },
  "toc": {
   "base_numbering": 1,
   "nav_menu": {},
   "number_sections": false,
   "sideBar": true,
   "skip_h1_title": false,
   "title_cell": "Table of Contents",
   "title_sidebar": "Contents",
   "toc_cell": true,
   "toc_position": {},
   "toc_section_display": true,
   "toc_window_display": false
  }
 },
 "nbformat": 4,
 "nbformat_minor": 4
}
