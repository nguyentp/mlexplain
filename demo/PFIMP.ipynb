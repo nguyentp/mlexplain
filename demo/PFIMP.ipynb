{
 "cells": [
  {
   "cell_type": "code",
   "execution_count": 2,
   "metadata": {},
   "outputs": [],
   "source": [
    "import pandas as pd\n",
    "import numpy as np\n",
    "import matplotlib.pyplot as plt\n",
    "from sklearn.metrics import make_scorer\n",
    "from sklearn.model_selection import train_test_split\n",
    "from sklearn.inspection import permutation_importance\n",
    "from sklearn.ensemble import RandomForestClassifier, RandomForestRegressor\n",
    "from sklearn.metrics import accuracy_score, roc_auc_score, mean_squared_error\n",
    "\n",
    "from toydata import load_binary, load_multiclass, load_regression"
   ]
  },
  {
   "cell_type": "markdown",
   "metadata": {},
   "source": [
    "# For Binary Problem"
   ]
  },
  {
   "cell_type": "code",
   "execution_count": 3,
   "metadata": {},
   "outputs": [],
   "source": [
    "X, y = load_binary()"
   ]
  },
  {
   "cell_type": "code",
   "execution_count": 4,
   "metadata": {},
   "outputs": [
    {
     "output_type": "execute_result",
     "data": {
      "text/plain": [
       "((569, 30), (569,))"
      ]
     },
     "metadata": {},
     "execution_count": 4
    }
   ],
   "source": [
    "X.shape, y.shape"
   ]
  },
  {
   "cell_type": "code",
   "execution_count": 5,
   "metadata": {},
   "outputs": [
    {
     "output_type": "execute_result",
     "data": {
      "text/plain": [
       "   mean radius  mean texture  mean perimeter  mean area  mean smoothness  \\\n",
       "0        17.99         10.38          122.80     1001.0          0.11840   \n",
       "1        20.57         17.77          132.90     1326.0          0.08474   \n",
       "2        19.69         21.25          130.00     1203.0          0.10960   \n",
       "3        11.42         20.38           77.58      386.1          0.14250   \n",
       "4        20.29         14.34          135.10     1297.0          0.10030   \n",
       "\n",
       "   mean compactness  mean concavity  mean concave points  mean symmetry  \\\n",
       "0           0.27760          0.3001              0.14710         0.2419   \n",
       "1           0.07864          0.0869              0.07017         0.1812   \n",
       "2           0.15990          0.1974              0.12790         0.2069   \n",
       "3           0.28390          0.2414              0.10520         0.2597   \n",
       "4           0.13280          0.1980              0.10430         0.1809   \n",
       "\n",
       "   mean fractal dimension  ...  worst radius  worst texture  worst perimeter  \\\n",
       "0                 0.07871  ...         25.38          17.33           184.60   \n",
       "1                 0.05667  ...         24.99          23.41           158.80   \n",
       "2                 0.05999  ...         23.57          25.53           152.50   \n",
       "3                 0.09744  ...         14.91          26.50            98.87   \n",
       "4                 0.05883  ...         22.54          16.67           152.20   \n",
       "\n",
       "   worst area  worst smoothness  worst compactness  worst concavity  \\\n",
       "0      2019.0            0.1622             0.6656           0.7119   \n",
       "1      1956.0            0.1238             0.1866           0.2416   \n",
       "2      1709.0            0.1444             0.4245           0.4504   \n",
       "3       567.7            0.2098             0.8663           0.6869   \n",
       "4      1575.0            0.1374             0.2050           0.4000   \n",
       "\n",
       "   worst concave points  worst symmetry  worst fractal dimension  \n",
       "0                0.2654          0.4601                  0.11890  \n",
       "1                0.1860          0.2750                  0.08902  \n",
       "2                0.2430          0.3613                  0.08758  \n",
       "3                0.2575          0.6638                  0.17300  \n",
       "4                0.1625          0.2364                  0.07678  \n",
       "\n",
       "[5 rows x 30 columns]"
      ],
      "text/html": "<div>\n<style scoped>\n    .dataframe tbody tr th:only-of-type {\n        vertical-align: middle;\n    }\n\n    .dataframe tbody tr th {\n        vertical-align: top;\n    }\n\n    .dataframe thead th {\n        text-align: right;\n    }\n</style>\n<table border=\"1\" class=\"dataframe\">\n  <thead>\n    <tr style=\"text-align: right;\">\n      <th></th>\n      <th>mean radius</th>\n      <th>mean texture</th>\n      <th>mean perimeter</th>\n      <th>mean area</th>\n      <th>mean smoothness</th>\n      <th>mean compactness</th>\n      <th>mean concavity</th>\n      <th>mean concave points</th>\n      <th>mean symmetry</th>\n      <th>mean fractal dimension</th>\n      <th>...</th>\n      <th>worst radius</th>\n      <th>worst texture</th>\n      <th>worst perimeter</th>\n      <th>worst area</th>\n      <th>worst smoothness</th>\n      <th>worst compactness</th>\n      <th>worst concavity</th>\n      <th>worst concave points</th>\n      <th>worst symmetry</th>\n      <th>worst fractal dimension</th>\n    </tr>\n  </thead>\n  <tbody>\n    <tr>\n      <th>0</th>\n      <td>17.99</td>\n      <td>10.38</td>\n      <td>122.80</td>\n      <td>1001.0</td>\n      <td>0.11840</td>\n      <td>0.27760</td>\n      <td>0.3001</td>\n      <td>0.14710</td>\n      <td>0.2419</td>\n      <td>0.07871</td>\n      <td>...</td>\n      <td>25.38</td>\n      <td>17.33</td>\n      <td>184.60</td>\n      <td>2019.0</td>\n      <td>0.1622</td>\n      <td>0.6656</td>\n      <td>0.7119</td>\n      <td>0.2654</td>\n      <td>0.4601</td>\n      <td>0.11890</td>\n    </tr>\n    <tr>\n      <th>1</th>\n      <td>20.57</td>\n      <td>17.77</td>\n      <td>132.90</td>\n      <td>1326.0</td>\n      <td>0.08474</td>\n      <td>0.07864</td>\n      <td>0.0869</td>\n      <td>0.07017</td>\n      <td>0.1812</td>\n      <td>0.05667</td>\n      <td>...</td>\n      <td>24.99</td>\n      <td>23.41</td>\n      <td>158.80</td>\n      <td>1956.0</td>\n      <td>0.1238</td>\n      <td>0.1866</td>\n      <td>0.2416</td>\n      <td>0.1860</td>\n      <td>0.2750</td>\n      <td>0.08902</td>\n    </tr>\n    <tr>\n      <th>2</th>\n      <td>19.69</td>\n      <td>21.25</td>\n      <td>130.00</td>\n      <td>1203.0</td>\n      <td>0.10960</td>\n      <td>0.15990</td>\n      <td>0.1974</td>\n      <td>0.12790</td>\n      <td>0.2069</td>\n      <td>0.05999</td>\n      <td>...</td>\n      <td>23.57</td>\n      <td>25.53</td>\n      <td>152.50</td>\n      <td>1709.0</td>\n      <td>0.1444</td>\n      <td>0.4245</td>\n      <td>0.4504</td>\n      <td>0.2430</td>\n      <td>0.3613</td>\n      <td>0.08758</td>\n    </tr>\n    <tr>\n      <th>3</th>\n      <td>11.42</td>\n      <td>20.38</td>\n      <td>77.58</td>\n      <td>386.1</td>\n      <td>0.14250</td>\n      <td>0.28390</td>\n      <td>0.2414</td>\n      <td>0.10520</td>\n      <td>0.2597</td>\n      <td>0.09744</td>\n      <td>...</td>\n      <td>14.91</td>\n      <td>26.50</td>\n      <td>98.87</td>\n      <td>567.7</td>\n      <td>0.2098</td>\n      <td>0.8663</td>\n      <td>0.6869</td>\n      <td>0.2575</td>\n      <td>0.6638</td>\n      <td>0.17300</td>\n    </tr>\n    <tr>\n      <th>4</th>\n      <td>20.29</td>\n      <td>14.34</td>\n      <td>135.10</td>\n      <td>1297.0</td>\n      <td>0.10030</td>\n      <td>0.13280</td>\n      <td>0.1980</td>\n      <td>0.10430</td>\n      <td>0.1809</td>\n      <td>0.05883</td>\n      <td>...</td>\n      <td>22.54</td>\n      <td>16.67</td>\n      <td>152.20</td>\n      <td>1575.0</td>\n      <td>0.1374</td>\n      <td>0.2050</td>\n      <td>0.4000</td>\n      <td>0.1625</td>\n      <td>0.2364</td>\n      <td>0.07678</td>\n    </tr>\n  </tbody>\n</table>\n<p>5 rows × 30 columns</p>\n</div>"
     },
     "metadata": {},
     "execution_count": 5
    }
   ],
   "source": [
    "X.head()"
   ]
  },
  {
   "cell_type": "code",
   "execution_count": 6,
   "metadata": {},
   "outputs": [
    {
     "output_type": "execute_result",
     "data": {
      "text/plain": [
       "<AxesSubplot:>"
      ]
     },
     "metadata": {},
     "execution_count": 6
    },
    {
     "output_type": "display_data",
     "data": {
      "text/plain": "<Figure size 432x288 with 1 Axes>",
      "image/svg+xml": "<?xml version=\"1.0\" encoding=\"utf-8\" standalone=\"no\"?>\n<!DOCTYPE svg PUBLIC \"-//W3C//DTD SVG 1.1//EN\"\n  \"http://www.w3.org/Graphics/SVG/1.1/DTD/svg11.dtd\">\n<!-- Created with matplotlib (https://matplotlib.org/) -->\n<svg height=\"245.2025pt\" version=\"1.1\" viewBox=\"0 0 375.2875 245.2025\" width=\"375.2875pt\" xmlns=\"http://www.w3.org/2000/svg\" xmlns:xlink=\"http://www.w3.org/1999/xlink\">\n <metadata>\n  <rdf:RDF xmlns:cc=\"http://creativecommons.org/ns#\" xmlns:dc=\"http://purl.org/dc/elements/1.1/\" xmlns:rdf=\"http://www.w3.org/1999/02/22-rdf-syntax-ns#\">\n   <cc:Work>\n    <dc:type rdf:resource=\"http://purl.org/dc/dcmitype/StillImage\"/>\n    <dc:date>2020-10-21T10:43:30.154442</dc:date>\n    <dc:format>image/svg+xml</dc:format>\n    <dc:creator>\n     <cc:Agent>\n      <dc:title>Matplotlib v3.3.1, https://matplotlib.org/</dc:title>\n     </cc:Agent>\n    </dc:creator>\n   </cc:Work>\n  </rdf:RDF>\n </metadata>\n <defs>\n  <style type=\"text/css\">*{stroke-linecap:butt;stroke-linejoin:round;}</style>\n </defs>\n <g id=\"figure_1\">\n  <g id=\"patch_1\">\n   <path d=\"M 0 245.2025 \nL 375.2875 245.2025 \nL 375.2875 0 \nL 0 0 \nz\n\" style=\"fill:none;\"/>\n  </g>\n  <g id=\"axes_1\">\n   <g id=\"patch_2\">\n    <path d=\"M 33.2875 224.64 \nL 368.0875 224.64 \nL 368.0875 7.2 \nL 33.2875 7.2 \nz\n\" style=\"fill:#ffffff;\"/>\n   </g>\n   <g id=\"patch_3\">\n    <path clip-path=\"url(#p2ce2eaaf87)\" d=\"M 75.1375 224.64 \nL 158.8375 224.64 \nL 158.8375 17.554286 \nL 75.1375 17.554286 \nz\n\" style=\"fill:#1f77b4;\"/>\n   </g>\n   <g id=\"patch_4\">\n    <path clip-path=\"url(#p2ce2eaaf87)\" d=\"M 242.5375 224.64 \nL 326.2375 224.64 \nL 326.2375 101.66473 \nL 242.5375 101.66473 \nz\n\" style=\"fill:#1f77b4;\"/>\n   </g>\n   <g id=\"matplotlib.axis_1\">\n    <g id=\"xtick_1\">\n     <g id=\"line2d_1\">\n      <defs>\n       <path d=\"M 0 0 \nL 0 3.5 \n\" id=\"m83bf6d696a\" style=\"stroke:#000000;stroke-width:0.8;\"/>\n      </defs>\n      <g>\n       <use style=\"stroke:#000000;stroke-width:0.8;\" x=\"116.9875\" xlink:href=\"#m83bf6d696a\" y=\"224.64\"/>\n      </g>\n     </g>\n     <g id=\"text_1\">\n      <!-- 1 -->\n      <g transform=\"translate(119.746875 238.0025)rotate(-90)scale(0.1 -0.1)\">\n       <defs>\n        <path d=\"M 12.40625 8.296875 \nL 28.515625 8.296875 \nL 28.515625 63.921875 \nL 10.984375 60.40625 \nL 10.984375 69.390625 \nL 28.421875 72.90625 \nL 38.28125 72.90625 \nL 38.28125 8.296875 \nL 54.390625 8.296875 \nL 54.390625 0 \nL 12.40625 0 \nz\n\" id=\"DejaVuSans-49\"/>\n       </defs>\n       <use xlink:href=\"#DejaVuSans-49\"/>\n      </g>\n     </g>\n    </g>\n    <g id=\"xtick_2\">\n     <g id=\"line2d_2\">\n      <g>\n       <use style=\"stroke:#000000;stroke-width:0.8;\" x=\"284.3875\" xlink:href=\"#m83bf6d696a\" y=\"224.64\"/>\n      </g>\n     </g>\n     <g id=\"text_2\">\n      <!-- 0 -->\n      <g transform=\"translate(287.146875 238.0025)rotate(-90)scale(0.1 -0.1)\">\n       <defs>\n        <path d=\"M 31.78125 66.40625 \nQ 24.171875 66.40625 20.328125 58.90625 \nQ 16.5 51.421875 16.5 36.375 \nQ 16.5 21.390625 20.328125 13.890625 \nQ 24.171875 6.390625 31.78125 6.390625 \nQ 39.453125 6.390625 43.28125 13.890625 \nQ 47.125 21.390625 47.125 36.375 \nQ 47.125 51.421875 43.28125 58.90625 \nQ 39.453125 66.40625 31.78125 66.40625 \nz\nM 31.78125 74.21875 \nQ 44.046875 74.21875 50.515625 64.515625 \nQ 56.984375 54.828125 56.984375 36.375 \nQ 56.984375 17.96875 50.515625 8.265625 \nQ 44.046875 -1.421875 31.78125 -1.421875 \nQ 19.53125 -1.421875 13.0625 8.265625 \nQ 6.59375 17.96875 6.59375 36.375 \nQ 6.59375 54.828125 13.0625 64.515625 \nQ 19.53125 74.21875 31.78125 74.21875 \nz\n\" id=\"DejaVuSans-48\"/>\n       </defs>\n       <use xlink:href=\"#DejaVuSans-48\"/>\n      </g>\n     </g>\n    </g>\n   </g>\n   <g id=\"matplotlib.axis_2\">\n    <g id=\"ytick_1\">\n     <g id=\"line2d_3\">\n      <defs>\n       <path d=\"M 0 0 \nL -3.5 0 \n\" id=\"me86ac8fb3b\" style=\"stroke:#000000;stroke-width:0.8;\"/>\n      </defs>\n      <g>\n       <use style=\"stroke:#000000;stroke-width:0.8;\" x=\"33.2875\" xlink:href=\"#me86ac8fb3b\" y=\"224.64\"/>\n      </g>\n     </g>\n     <g id=\"text_3\">\n      <!-- 0 -->\n      <g transform=\"translate(19.925 228.439219)scale(0.1 -0.1)\">\n       <use xlink:href=\"#DejaVuSans-48\"/>\n      </g>\n     </g>\n    </g>\n    <g id=\"ytick_2\">\n     <g id=\"line2d_4\">\n      <g>\n       <use style=\"stroke:#000000;stroke-width:0.8;\" x=\"33.2875\" xlink:href=\"#me86ac8fb3b\" y=\"195.636399\"/>\n      </g>\n     </g>\n     <g id=\"text_4\">\n      <!-- 50 -->\n      <g transform=\"translate(13.5625 199.435617)scale(0.1 -0.1)\">\n       <defs>\n        <path d=\"M 10.796875 72.90625 \nL 49.515625 72.90625 \nL 49.515625 64.59375 \nL 19.828125 64.59375 \nL 19.828125 46.734375 \nQ 21.96875 47.46875 24.109375 47.828125 \nQ 26.265625 48.1875 28.421875 48.1875 \nQ 40.625 48.1875 47.75 41.5 \nQ 54.890625 34.8125 54.890625 23.390625 \nQ 54.890625 11.625 47.5625 5.09375 \nQ 40.234375 -1.421875 26.90625 -1.421875 \nQ 22.3125 -1.421875 17.546875 -0.640625 \nQ 12.796875 0.140625 7.71875 1.703125 \nL 7.71875 11.625 \nQ 12.109375 9.234375 16.796875 8.0625 \nQ 21.484375 6.890625 26.703125 6.890625 \nQ 35.15625 6.890625 40.078125 11.328125 \nQ 45.015625 15.765625 45.015625 23.390625 \nQ 45.015625 31 40.078125 35.4375 \nQ 35.15625 39.890625 26.703125 39.890625 \nQ 22.75 39.890625 18.8125 39.015625 \nQ 14.890625 38.140625 10.796875 36.28125 \nz\n\" id=\"DejaVuSans-53\"/>\n       </defs>\n       <use xlink:href=\"#DejaVuSans-53\"/>\n       <use x=\"63.623047\" xlink:href=\"#DejaVuSans-48\"/>\n      </g>\n     </g>\n    </g>\n    <g id=\"ytick_3\">\n     <g id=\"line2d_5\">\n      <g>\n       <use style=\"stroke:#000000;stroke-width:0.8;\" x=\"33.2875\" xlink:href=\"#me86ac8fb3b\" y=\"166.632797\"/>\n      </g>\n     </g>\n     <g id=\"text_5\">\n      <!-- 100 -->\n      <g transform=\"translate(7.2 170.432016)scale(0.1 -0.1)\">\n       <use xlink:href=\"#DejaVuSans-49\"/>\n       <use x=\"63.623047\" xlink:href=\"#DejaVuSans-48\"/>\n       <use x=\"127.246094\" xlink:href=\"#DejaVuSans-48\"/>\n      </g>\n     </g>\n    </g>\n    <g id=\"ytick_4\">\n     <g id=\"line2d_6\">\n      <g>\n       <use style=\"stroke:#000000;stroke-width:0.8;\" x=\"33.2875\" xlink:href=\"#me86ac8fb3b\" y=\"137.629196\"/>\n      </g>\n     </g>\n     <g id=\"text_6\">\n      <!-- 150 -->\n      <g transform=\"translate(7.2 141.428414)scale(0.1 -0.1)\">\n       <use xlink:href=\"#DejaVuSans-49\"/>\n       <use x=\"63.623047\" xlink:href=\"#DejaVuSans-53\"/>\n       <use x=\"127.246094\" xlink:href=\"#DejaVuSans-48\"/>\n      </g>\n     </g>\n    </g>\n    <g id=\"ytick_5\">\n     <g id=\"line2d_7\">\n      <g>\n       <use style=\"stroke:#000000;stroke-width:0.8;\" x=\"33.2875\" xlink:href=\"#me86ac8fb3b\" y=\"108.625594\"/>\n      </g>\n     </g>\n     <g id=\"text_7\">\n      <!-- 200 -->\n      <g transform=\"translate(7.2 112.424813)scale(0.1 -0.1)\">\n       <defs>\n        <path d=\"M 19.1875 8.296875 \nL 53.609375 8.296875 \nL 53.609375 0 \nL 7.328125 0 \nL 7.328125 8.296875 \nQ 12.9375 14.109375 22.625 23.890625 \nQ 32.328125 33.6875 34.8125 36.53125 \nQ 39.546875 41.84375 41.421875 45.53125 \nQ 43.3125 49.21875 43.3125 52.78125 \nQ 43.3125 58.59375 39.234375 62.25 \nQ 35.15625 65.921875 28.609375 65.921875 \nQ 23.96875 65.921875 18.8125 64.3125 \nQ 13.671875 62.703125 7.8125 59.421875 \nL 7.8125 69.390625 \nQ 13.765625 71.78125 18.9375 73 \nQ 24.125 74.21875 28.421875 74.21875 \nQ 39.75 74.21875 46.484375 68.546875 \nQ 53.21875 62.890625 53.21875 53.421875 \nQ 53.21875 48.921875 51.53125 44.890625 \nQ 49.859375 40.875 45.40625 35.40625 \nQ 44.1875 33.984375 37.640625 27.21875 \nQ 31.109375 20.453125 19.1875 8.296875 \nz\n\" id=\"DejaVuSans-50\"/>\n       </defs>\n       <use xlink:href=\"#DejaVuSans-50\"/>\n       <use x=\"63.623047\" xlink:href=\"#DejaVuSans-48\"/>\n       <use x=\"127.246094\" xlink:href=\"#DejaVuSans-48\"/>\n      </g>\n     </g>\n    </g>\n    <g id=\"ytick_6\">\n     <g id=\"line2d_8\">\n      <g>\n       <use style=\"stroke:#000000;stroke-width:0.8;\" x=\"33.2875\" xlink:href=\"#me86ac8fb3b\" y=\"79.621993\"/>\n      </g>\n     </g>\n     <g id=\"text_8\">\n      <!-- 250 -->\n      <g transform=\"translate(7.2 83.421212)scale(0.1 -0.1)\">\n       <use xlink:href=\"#DejaVuSans-50\"/>\n       <use x=\"63.623047\" xlink:href=\"#DejaVuSans-53\"/>\n       <use x=\"127.246094\" xlink:href=\"#DejaVuSans-48\"/>\n      </g>\n     </g>\n    </g>\n    <g id=\"ytick_7\">\n     <g id=\"line2d_9\">\n      <g>\n       <use style=\"stroke:#000000;stroke-width:0.8;\" x=\"33.2875\" xlink:href=\"#me86ac8fb3b\" y=\"50.618391\"/>\n      </g>\n     </g>\n     <g id=\"text_9\">\n      <!-- 300 -->\n      <g transform=\"translate(7.2 54.41761)scale(0.1 -0.1)\">\n       <defs>\n        <path d=\"M 40.578125 39.3125 \nQ 47.65625 37.796875 51.625 33 \nQ 55.609375 28.21875 55.609375 21.1875 \nQ 55.609375 10.40625 48.1875 4.484375 \nQ 40.765625 -1.421875 27.09375 -1.421875 \nQ 22.515625 -1.421875 17.65625 -0.515625 \nQ 12.796875 0.390625 7.625 2.203125 \nL 7.625 11.71875 \nQ 11.71875 9.328125 16.59375 8.109375 \nQ 21.484375 6.890625 26.8125 6.890625 \nQ 36.078125 6.890625 40.9375 10.546875 \nQ 45.796875 14.203125 45.796875 21.1875 \nQ 45.796875 27.640625 41.28125 31.265625 \nQ 36.765625 34.90625 28.71875 34.90625 \nL 20.21875 34.90625 \nL 20.21875 43.015625 \nL 29.109375 43.015625 \nQ 36.375 43.015625 40.234375 45.921875 \nQ 44.09375 48.828125 44.09375 54.296875 \nQ 44.09375 59.90625 40.109375 62.90625 \nQ 36.140625 65.921875 28.71875 65.921875 \nQ 24.65625 65.921875 20.015625 65.03125 \nQ 15.375 64.15625 9.8125 62.3125 \nL 9.8125 71.09375 \nQ 15.4375 72.65625 20.34375 73.4375 \nQ 25.25 74.21875 29.59375 74.21875 \nQ 40.828125 74.21875 47.359375 69.109375 \nQ 53.90625 64.015625 53.90625 55.328125 \nQ 53.90625 49.265625 50.4375 45.09375 \nQ 46.96875 40.921875 40.578125 39.3125 \nz\n\" id=\"DejaVuSans-51\"/>\n       </defs>\n       <use xlink:href=\"#DejaVuSans-51\"/>\n       <use x=\"63.623047\" xlink:href=\"#DejaVuSans-48\"/>\n       <use x=\"127.246094\" xlink:href=\"#DejaVuSans-48\"/>\n      </g>\n     </g>\n    </g>\n    <g id=\"ytick_8\">\n     <g id=\"line2d_10\">\n      <g>\n       <use style=\"stroke:#000000;stroke-width:0.8;\" x=\"33.2875\" xlink:href=\"#me86ac8fb3b\" y=\"21.61479\"/>\n      </g>\n     </g>\n     <g id=\"text_10\">\n      <!-- 350 -->\n      <g transform=\"translate(7.2 25.414009)scale(0.1 -0.1)\">\n       <use xlink:href=\"#DejaVuSans-51\"/>\n       <use x=\"63.623047\" xlink:href=\"#DejaVuSans-53\"/>\n       <use x=\"127.246094\" xlink:href=\"#DejaVuSans-48\"/>\n      </g>\n     </g>\n    </g>\n   </g>\n   <g id=\"patch_5\">\n    <path d=\"M 33.2875 224.64 \nL 33.2875 7.2 \n\" style=\"fill:none;stroke:#000000;stroke-linecap:square;stroke-linejoin:miter;stroke-width:0.8;\"/>\n   </g>\n   <g id=\"patch_6\">\n    <path d=\"M 368.0875 224.64 \nL 368.0875 7.2 \n\" style=\"fill:none;stroke:#000000;stroke-linecap:square;stroke-linejoin:miter;stroke-width:0.8;\"/>\n   </g>\n   <g id=\"patch_7\">\n    <path d=\"M 33.2875 224.64 \nL 368.0875 224.64 \n\" style=\"fill:none;stroke:#000000;stroke-linecap:square;stroke-linejoin:miter;stroke-width:0.8;\"/>\n   </g>\n   <g id=\"patch_8\">\n    <path d=\"M 33.2875 7.2 \nL 368.0875 7.2 \n\" style=\"fill:none;stroke:#000000;stroke-linecap:square;stroke-linejoin:miter;stroke-width:0.8;\"/>\n   </g>\n  </g>\n </g>\n <defs>\n  <clipPath id=\"p2ce2eaaf87\">\n   <rect height=\"217.44\" width=\"334.8\" x=\"33.2875\" y=\"7.2\"/>\n  </clipPath>\n </defs>\n</svg>\n",
      "image/png": "[encoded data removed]"
     },
     "metadata": {
      "needs_background": "light"
     }
    }
   ],
   "source": [
    "y.value_counts().plot.bar()"
   ]
  },
  {
   "cell_type": "code",
   "execution_count": 7,
   "metadata": {},
   "outputs": [
    {
     "output_type": "execute_result",
     "data": {
      "text/plain": [
       "((426, 30), (143, 30))"
      ]
     },
     "metadata": {},
     "execution_count": 7
    }
   ],
   "source": [
    "X_train, X_val, y_train, y_val = train_test_split(X, y, random_state=0)\n",
    "X_train.shape, X_val.shape"
   ]
  },
  {
   "cell_type": "code",
   "execution_count": 8,
   "metadata": {},
   "outputs": [],
   "source": [
    "model = RandomForestClassifier(n_estimators=100, max_depth=3).fit(X_train, y_train)"
   ]
  },
  {
   "cell_type": "code",
   "execution_count": 9,
   "metadata": {},
   "outputs": [],
   "source": [
    "y_val_prob = model.predict_proba(X_val)[:, 1]\n",
    "y_val_pred = model.predict(X_val)"
   ]
  },
  {
   "cell_type": "code",
   "execution_count": 10,
   "metadata": {},
   "outputs": [
    {
     "output_type": "stream",
     "name": "stdout",
     "text": [
      "Val AUC=0.9953878406708596\n"
     ]
    }
   ],
   "source": [
    "val_auc = roc_auc_score(y_val, y_val_prob)\n",
    "print(f'Val AUC={val_auc}')"
   ]
  },
  {
   "cell_type": "code",
   "execution_count": 11,
   "metadata": {},
   "outputs": [
    {
     "output_type": "stream",
     "name": "stdout",
     "text": [
      "Val ACC=0.958041958041958\n"
     ]
    }
   ],
   "source": [
    "val_acc = accuracy_score(y_val, y_val_pred)\n",
    "print(f'Val ACC={val_acc}')"
   ]
  },
  {
   "cell_type": "code",
   "execution_count": 12,
   "metadata": {},
   "outputs": [
    {
     "output_type": "stream",
     "name": "stdout",
     "text": [
      "CPU times: user 10 s, sys: 108 ms, total: 10.2 s\nWall time: 11.2 s\n"
     ]
    }
   ],
   "source": [
    "%%time\n",
    "# scoring names: https://scikit-learn.org/stable/modules/model_evaluation.html#scoring-parameter\n",
    "pfimp = permutation_importance(model, X_val, y_val, scoring=\"accuracy\", n_repeats=30, random_state=0)"
   ]
  },
  {
   "cell_type": "code",
   "execution_count": 13,
   "metadata": {},
   "outputs": [],
   "source": [
    "pfimp_score = pd.DataFrame({\n",
    "    \"feature\": X.columns,\n",
    "    \"value\": pfimp[\"importances_mean\"],\n",
    "}).sort_values(\"value\").set_index(\"feature\")\n",
    "\n",
    "pfimp_std = pd.DataFrame({\n",
    "    \"feature\": X.columns,\n",
    "    \"value\": pfimp[\"importances_std\"],\n",
    "}).sort_values(\"value\").set_index(\"feature\")"
   ]
  },
  {
   "cell_type": "code",
   "execution_count": 14,
   "metadata": {},
   "outputs": [
    {
     "output_type": "execute_result",
     "data": {
      "text/plain": [
       "                    value\n",
       "feature                  \n",
       "worst texture    0.001865\n",
       "worst concavity  0.002098\n",
       "worst perimeter  0.007925\n",
       "worst radius     0.011888\n",
       "worst area       0.016550"
      ],
      "text/html": "<div>\n<style scoped>\n    .dataframe tbody tr th:only-of-type {\n        vertical-align: middle;\n    }\n\n    .dataframe tbody tr th {\n        vertical-align: top;\n    }\n\n    .dataframe thead th {\n        text-align: right;\n    }\n</style>\n<table border=\"1\" class=\"dataframe\">\n  <thead>\n    <tr style=\"text-align: right;\">\n      <th></th>\n      <th>value</th>\n    </tr>\n    <tr>\n      <th>feature</th>\n      <th></th>\n    </tr>\n  </thead>\n  <tbody>\n    <tr>\n      <th>worst texture</th>\n      <td>0.001865</td>\n    </tr>\n    <tr>\n      <th>worst concavity</th>\n      <td>0.002098</td>\n    </tr>\n    <tr>\n      <th>worst perimeter</th>\n      <td>0.007925</td>\n    </tr>\n    <tr>\n      <th>worst radius</th>\n      <td>0.011888</td>\n    </tr>\n    <tr>\n      <th>worst area</th>\n      <td>0.016550</td>\n    </tr>\n  </tbody>\n</table>\n</div>"
     },
     "metadata": {},
     "execution_count": 14
    }
   ],
   "source": [
    "pfimp_score.tail(5)"
   ]
  },
  {
   "cell_type": "code",
   "execution_count": 15,
   "metadata": {},
   "outputs": [
    {
     "output_type": "display_data",
     "data": {
      "text/plain": "<Figure size 288x576 with 1 Axes>",
      "image/svg+xml": "<?xml version=\"1.0\" encoding=\"utf-8\" standalone=\"no\"?>\n<!DOCTYPE svg PUBLIC \"-//W3C//DTD SVG 1.1//EN\"\n  \"http://www.w3.org/Graphics/SVG/1.1/DTD/svg11.dtd\">\n<!-- Created with matplotlib (https://matplotlib.org/) -->\n<svg height=\"465.958125pt\" version=\"1.1\" viewBox=\"0 0 376.879687 465.958125\" width=\"376.879687pt\" xmlns=\"http://www.w3.org/2000/svg\" xmlns:xlink=\"http://www.w3.org/1999/xlink\">\n <metadata>\n  <rdf:RDF xmlns:cc=\"http://creativecommons.org/ns#\" xmlns:dc=\"http://purl.org/dc/elements/1.1/\" xmlns:rdf=\"http://www.w3.org/1999/02/22-rdf-syntax-ns#\">\n   <cc:Work>\n    <dc:type rdf:resource=\"http://purl.org/dc/dcmitype/StillImage\"/>\n    <dc:date>2020-10-21T10:43:42.808150</dc:date>\n    <dc:format>image/svg+xml</dc:format>\n    <dc:creator>\n     <cc:Agent>\n      <dc:title>Matplotlib v3.3.1, https://matplotlib.org/</dc:title>\n     </cc:Agent>\n    </dc:creator>\n   </cc:Work>\n  </rdf:RDF>\n </metadata>\n <defs>\n  <style type=\"text/css\">*{stroke-linecap:butt;stroke-linejoin:round;}</style>\n </defs>\n <g id=\"figure_1\">\n  <g id=\"patch_1\">\n   <path d=\"M 0 465.958125 \nL 376.879687 465.958125 \nL 376.879687 0 \nL 0 0 \nz\n\" style=\"fill:none;\"/>\n  </g>\n  <g id=\"axes_1\">\n   <g id=\"patch_2\">\n    <path d=\"M 146.479688 442.08 \nL 369.679688 442.08 \nL 369.679688 7.2 \nL 146.479688 7.2 \nz\n\" style=\"fill:#ffffff;\"/>\n   </g>\n   <g id=\"patch_3\">\n    <path clip-path=\"url(#p054bf86f1e)\" d=\"M 228.326811 438.456 \nL 181.792922 438.456 \nL 181.792922 431.208 \nL 228.326811 431.208 \nz\n\" style=\"fill:#1f77b4;\"/>\n   </g>\n   <g id=\"patch_4\">\n    <path clip-path=\"url(#p054bf86f1e)\" d=\"M 228.326811 423.96 \nL 201.736017 423.96 \nL 201.736017 416.712 \nL 228.326811 416.712 \nz\n\" style=\"fill:#1f77b4;\"/>\n   </g>\n   <g id=\"patch_5\">\n    <path clip-path=\"url(#p054bf86f1e)\" d=\"M 228.326811 409.464 \nL 211.707565 409.464 \nL 211.707565 402.216 \nL 228.326811 402.216 \nz\n\" style=\"fill:#1f77b4;\"/>\n   </g>\n   <g id=\"patch_6\">\n    <path clip-path=\"url(#p054bf86f1e)\" d=\"M 228.326811 394.968 \nL 217.247314 394.968 \nL 217.247314 387.72 \nL 228.326811 387.72 \nz\n\" style=\"fill:#1f77b4;\"/>\n   </g>\n   <g id=\"patch_7\">\n    <path clip-path=\"url(#p054bf86f1e)\" d=\"M 228.326811 380.472 \nL 226.110912 380.472 \nL 226.110912 373.224 \nL 228.326811 373.224 \nz\n\" style=\"fill:#1f77b4;\"/>\n   </g>\n   <g id=\"patch_8\">\n    <path clip-path=\"url(#p054bf86f1e)\" d=\"M 228.326811 365.976 \nL 226.110912 365.976 \nL 226.110912 358.728 \nL 228.326811 358.728 \nz\n\" style=\"fill:#1f77b4;\"/>\n   </g>\n   <g id=\"patch_9\">\n    <path clip-path=\"url(#p054bf86f1e)\" d=\"M 228.326811 351.48 \nL 227.218861 351.48 \nL 227.218861 344.232 \nL 228.326811 344.232 \nz\n\" style=\"fill:#1f77b4;\"/>\n   </g>\n   <g id=\"patch_10\">\n    <path clip-path=\"url(#p054bf86f1e)\" d=\"M 228.326811 336.984 \nL 227.218861 336.984 \nL 227.218861 329.736 \nL 228.326811 329.736 \nz\n\" style=\"fill:#1f77b4;\"/>\n   </g>\n   <g id=\"patch_11\">\n    <path clip-path=\"url(#p054bf86f1e)\" d=\"M 228.326811 322.488 \nL 228.326811 322.488 \nL 228.326811 315.24 \nL 228.326811 315.24 \nz\n\" style=\"fill:#1f77b4;\"/>\n   </g>\n   <g id=\"patch_12\">\n    <path clip-path=\"url(#p054bf86f1e)\" d=\"M 228.326811 307.992 \nL 228.326811 307.992 \nL 228.326811 300.744 \nL 228.326811 300.744 \nz\n\" style=\"fill:#1f77b4;\"/>\n   </g>\n   <g id=\"patch_13\">\n    <path clip-path=\"url(#p054bf86f1e)\" d=\"M 228.326811 293.496 \nL 228.326811 293.496 \nL 228.326811 286.248 \nL 228.326811 286.248 \nz\n\" style=\"fill:#1f77b4;\"/>\n   </g>\n   <g id=\"patch_14\">\n    <path clip-path=\"url(#p054bf86f1e)\" d=\"M 228.326811 279 \nL 228.326811 279 \nL 228.326811 271.752 \nL 228.326811 271.752 \nz\n\" style=\"fill:#1f77b4;\"/>\n   </g>\n   <g id=\"patch_15\">\n    <path clip-path=\"url(#p054bf86f1e)\" d=\"M 228.326811 264.504 \nL 228.326811 264.504 \nL 228.326811 257.256 \nL 228.326811 257.256 \nz\n\" style=\"fill:#1f77b4;\"/>\n   </g>\n   <g id=\"patch_16\">\n    <path clip-path=\"url(#p054bf86f1e)\" d=\"M 228.326811 250.008 \nL 228.326811 250.008 \nL 228.326811 242.76 \nL 228.326811 242.76 \nz\n\" style=\"fill:#1f77b4;\"/>\n   </g>\n   <g id=\"patch_17\">\n    <path clip-path=\"url(#p054bf86f1e)\" d=\"M 228.326811 235.512 \nL 228.326811 235.512 \nL 228.326811 228.264 \nL 228.326811 228.264 \nz\n\" style=\"fill:#1f77b4;\"/>\n   </g>\n   <g id=\"patch_18\">\n    <path clip-path=\"url(#p054bf86f1e)\" d=\"M 228.326811 221.016 \nL 228.326811 221.016 \nL 228.326811 213.768 \nL 228.326811 213.768 \nz\n\" style=\"fill:#1f77b4;\"/>\n   </g>\n   <g id=\"patch_19\">\n    <path clip-path=\"url(#p054bf86f1e)\" d=\"M 228.326811 206.52 \nL 228.326811 206.52 \nL 228.326811 199.272 \nL 228.326811 199.272 \nz\n\" style=\"fill:#1f77b4;\"/>\n   </g>\n   <g id=\"patch_20\">\n    <path clip-path=\"url(#p054bf86f1e)\" d=\"M 228.326811 192.024 \nL 228.326811 192.024 \nL 228.326811 184.776 \nL 228.326811 184.776 \nz\n\" style=\"fill:#1f77b4;\"/>\n   </g>\n   <g id=\"patch_21\">\n    <path clip-path=\"url(#p054bf86f1e)\" d=\"M 228.326811 177.528 \nL 228.326811 177.528 \nL 228.326811 170.28 \nL 228.326811 170.28 \nz\n\" style=\"fill:#1f77b4;\"/>\n   </g>\n   <g id=\"patch_22\">\n    <path clip-path=\"url(#p054bf86f1e)\" d=\"M 228.326811 163.032 \nL 228.326811 163.032 \nL 228.326811 155.784 \nL 228.326811 155.784 \nz\n\" style=\"fill:#1f77b4;\"/>\n   </g>\n   <g id=\"patch_23\">\n    <path clip-path=\"url(#p054bf86f1e)\" d=\"M 228.326811 148.536 \nL 228.326811 148.536 \nL 228.326811 141.288 \nL 228.326811 141.288 \nz\n\" style=\"fill:#1f77b4;\"/>\n   </g>\n   <g id=\"patch_24\">\n    <path clip-path=\"url(#p054bf86f1e)\" d=\"M 228.326811 134.04 \nL 228.326811 134.04 \nL 228.326811 126.792 \nL 228.326811 126.792 \nz\n\" style=\"fill:#1f77b4;\"/>\n   </g>\n   <g id=\"patch_25\">\n    <path clip-path=\"url(#p054bf86f1e)\" d=\"M 228.326811 119.544 \nL 228.326811 119.544 \nL 228.326811 112.296 \nL 228.326811 112.296 \nz\n\" style=\"fill:#1f77b4;\"/>\n   </g>\n   <g id=\"patch_26\">\n    <path clip-path=\"url(#p054bf86f1e)\" d=\"M 228.326811 105.048 \nL 228.326811 105.048 \nL 228.326811 97.8 \nL 228.326811 97.8 \nz\n\" style=\"fill:#1f77b4;\"/>\n   </g>\n   <g id=\"patch_27\">\n    <path clip-path=\"url(#p054bf86f1e)\" d=\"M 228.326811 90.552 \nL 233.86656 90.552 \nL 233.86656 83.304 \nL 228.326811 83.304 \nz\n\" style=\"fill:#1f77b4;\"/>\n   </g>\n   <g id=\"patch_28\">\n    <path clip-path=\"url(#p054bf86f1e)\" d=\"M 228.326811 76.056 \nL 237.190409 76.056 \nL 237.190409 68.808 \nL 228.326811 68.808 \nz\n\" style=\"fill:#1f77b4;\"/>\n   </g>\n   <g id=\"patch_29\">\n    <path clip-path=\"url(#p054bf86f1e)\" d=\"M 228.326811 61.56 \nL 238.298359 61.56 \nL 238.298359 54.312 \nL 228.326811 54.312 \nz\n\" style=\"fill:#1f77b4;\"/>\n   </g>\n   <g id=\"patch_30\">\n    <path clip-path=\"url(#p054bf86f1e)\" d=\"M 228.326811 47.064 \nL 265.997102 47.064 \nL 265.997102 39.816 \nL 228.326811 39.816 \nz\n\" style=\"fill:#1f77b4;\"/>\n   </g>\n   <g id=\"patch_31\">\n    <path clip-path=\"url(#p054bf86f1e)\" d=\"M 228.326811 32.568 \nL 284.832248 32.568 \nL 284.832248 25.32 \nL 228.326811 25.32 \nz\n\" style=\"fill:#1f77b4;\"/>\n   </g>\n   <g id=\"patch_32\">\n    <path clip-path=\"url(#p054bf86f1e)\" d=\"M 228.326811 18.072 \nL 306.991242 18.072 \nL 306.991242 10.824 \nL 228.326811 10.824 \nz\n\" style=\"fill:#1f77b4;\"/>\n   </g>\n   <g id=\"matplotlib.axis_1\">\n    <g id=\"xtick_1\">\n     <g id=\"line2d_1\">\n      <path clip-path=\"url(#p054bf86f1e)\" d=\"M 180.795767 442.08 \nL 180.795767 7.2 \n\" style=\"fill:none;stroke:#b0b0b0;stroke-linecap:square;stroke-width:0.8;\"/>\n     </g>\n     <g id=\"line2d_2\">\n      <defs>\n       <path d=\"M 0 0 \nL 0 3.5 \n\" id=\"m6b92b40b79\" style=\"stroke:#000000;stroke-width:0.8;\"/>\n      </defs>\n      <g>\n       <use style=\"stroke:#000000;stroke-width:0.8;\" x=\"180.795767\" xlink:href=\"#m6b92b40b79\" y=\"442.08\"/>\n      </g>\n     </g>\n     <g id=\"text_1\">\n      <!-- −0.01 -->\n      <g transform=\"translate(165.473111 456.678437)scale(0.1 -0.1)\">\n       <defs>\n        <path d=\"M 10.59375 35.5 \nL 73.1875 35.5 \nL 73.1875 27.203125 \nL 10.59375 27.203125 \nz\n\" id=\"DejaVuSans-8722\"/>\n        <path d=\"M 31.78125 66.40625 \nQ 24.171875 66.40625 20.328125 58.90625 \nQ 16.5 51.421875 16.5 36.375 \nQ 16.5 21.390625 20.328125 13.890625 \nQ 24.171875 6.390625 31.78125 6.390625 \nQ 39.453125 6.390625 43.28125 13.890625 \nQ 47.125 21.390625 47.125 36.375 \nQ 47.125 51.421875 43.28125 58.90625 \nQ 39.453125 66.40625 31.78125 66.40625 \nz\nM 31.78125 74.21875 \nQ 44.046875 74.21875 50.515625 64.515625 \nQ 56.984375 54.828125 56.984375 36.375 \nQ 56.984375 17.96875 50.515625 8.265625 \nQ 44.046875 -1.421875 31.78125 -1.421875 \nQ 19.53125 -1.421875 13.0625 8.265625 \nQ 6.59375 17.96875 6.59375 36.375 \nQ 6.59375 54.828125 13.0625 64.515625 \nQ 19.53125 74.21875 31.78125 74.21875 \nz\n\" id=\"DejaVuSans-48\"/>\n        <path d=\"M 10.6875 12.40625 \nL 21 12.40625 \nL 21 0 \nL 10.6875 0 \nz\n\" id=\"DejaVuSans-46\"/>\n        <path d=\"M 12.40625 8.296875 \nL 28.515625 8.296875 \nL 28.515625 63.921875 \nL 10.984375 60.40625 \nL 10.984375 69.390625 \nL 28.421875 72.90625 \nL 38.28125 72.90625 \nL 38.28125 8.296875 \nL 54.390625 8.296875 \nL 54.390625 0 \nL 12.40625 0 \nz\n\" id=\"DejaVuSans-49\"/>\n       </defs>\n       <use xlink:href=\"#DejaVuSans-8722\"/>\n       <use x=\"83.789062\" xlink:href=\"#DejaVuSans-48\"/>\n       <use x=\"147.412109\" xlink:href=\"#DejaVuSans-46\"/>\n       <use x=\"179.199219\" xlink:href=\"#DejaVuSans-48\"/>\n       <use x=\"242.822266\" xlink:href=\"#DejaVuSans-49\"/>\n      </g>\n     </g>\n    </g>\n    <g id=\"xtick_2\">\n     <g id=\"line2d_3\">\n      <path clip-path=\"url(#p054bf86f1e)\" d=\"M 228.326811 442.08 \nL 228.326811 7.2 \n\" style=\"fill:none;stroke:#b0b0b0;stroke-linecap:square;stroke-width:0.8;\"/>\n     </g>\n     <g id=\"line2d_4\">\n      <g>\n       <use style=\"stroke:#000000;stroke-width:0.8;\" x=\"228.326811\" xlink:href=\"#m6b92b40b79\" y=\"442.08\"/>\n      </g>\n     </g>\n     <g id=\"text_2\">\n      <!-- 0.00 -->\n      <g transform=\"translate(217.193999 456.678437)scale(0.1 -0.1)\">\n       <use xlink:href=\"#DejaVuSans-48\"/>\n       <use x=\"63.623047\" xlink:href=\"#DejaVuSans-46\"/>\n       <use x=\"95.410156\" xlink:href=\"#DejaVuSans-48\"/>\n       <use x=\"159.033203\" xlink:href=\"#DejaVuSans-48\"/>\n      </g>\n     </g>\n    </g>\n    <g id=\"xtick_3\">\n     <g id=\"line2d_5\">\n      <path clip-path=\"url(#p054bf86f1e)\" d=\"M 275.857855 442.08 \nL 275.857855 7.2 \n\" style=\"fill:none;stroke:#b0b0b0;stroke-linecap:square;stroke-width:0.8;\"/>\n     </g>\n     <g id=\"line2d_6\">\n      <g>\n       <use style=\"stroke:#000000;stroke-width:0.8;\" x=\"275.857855\" xlink:href=\"#m6b92b40b79\" y=\"442.08\"/>\n      </g>\n     </g>\n     <g id=\"text_3\">\n      <!-- 0.01 -->\n      <g transform=\"translate(264.725042 456.678437)scale(0.1 -0.1)\">\n       <use xlink:href=\"#DejaVuSans-48\"/>\n       <use x=\"63.623047\" xlink:href=\"#DejaVuSans-46\"/>\n       <use x=\"95.410156\" xlink:href=\"#DejaVuSans-48\"/>\n       <use x=\"159.033203\" xlink:href=\"#DejaVuSans-49\"/>\n      </g>\n     </g>\n    </g>\n    <g id=\"xtick_4\">\n     <g id=\"line2d_7\">\n      <path clip-path=\"url(#p054bf86f1e)\" d=\"M 323.388899 442.08 \nL 323.388899 7.2 \n\" style=\"fill:none;stroke:#b0b0b0;stroke-linecap:square;stroke-width:0.8;\"/>\n     </g>\n     <g id=\"line2d_8\">\n      <g>\n       <use style=\"stroke:#000000;stroke-width:0.8;\" x=\"323.388899\" xlink:href=\"#m6b92b40b79\" y=\"442.08\"/>\n      </g>\n     </g>\n     <g id=\"text_4\">\n      <!-- 0.02 -->\n      <g transform=\"translate(312.256086 456.678437)scale(0.1 -0.1)\">\n       <defs>\n        <path d=\"M 19.1875 8.296875 \nL 53.609375 8.296875 \nL 53.609375 0 \nL 7.328125 0 \nL 7.328125 8.296875 \nQ 12.9375 14.109375 22.625 23.890625 \nQ 32.328125 33.6875 34.8125 36.53125 \nQ 39.546875 41.84375 41.421875 45.53125 \nQ 43.3125 49.21875 43.3125 52.78125 \nQ 43.3125 58.59375 39.234375 62.25 \nQ 35.15625 65.921875 28.609375 65.921875 \nQ 23.96875 65.921875 18.8125 64.3125 \nQ 13.671875 62.703125 7.8125 59.421875 \nL 7.8125 69.390625 \nQ 13.765625 71.78125 18.9375 73 \nQ 24.125 74.21875 28.421875 74.21875 \nQ 39.75 74.21875 46.484375 68.546875 \nQ 53.21875 62.890625 53.21875 53.421875 \nQ 53.21875 48.921875 51.53125 44.890625 \nQ 49.859375 40.875 45.40625 35.40625 \nQ 44.1875 33.984375 37.640625 27.21875 \nQ 31.109375 20.453125 19.1875 8.296875 \nz\n\" id=\"DejaVuSans-50\"/>\n       </defs>\n       <use xlink:href=\"#DejaVuSans-48\"/>\n       <use x=\"63.623047\" xlink:href=\"#DejaVuSans-46\"/>\n       <use x=\"95.410156\" xlink:href=\"#DejaVuSans-48\"/>\n       <use x=\"159.033203\" xlink:href=\"#DejaVuSans-50\"/>\n      </g>\n     </g>\n    </g>\n   </g>\n   <g id=\"matplotlib.axis_2\">\n    <g id=\"ytick_1\">\n     <g id=\"line2d_9\">\n      <path clip-path=\"url(#p054bf86f1e)\" d=\"M 146.479688 434.832 \nL 369.679688 434.832 \n\" style=\"fill:none;stroke:#b0b0b0;stroke-linecap:square;stroke-width:0.8;\"/>\n     </g>\n     <g id=\"line2d_10\">\n      <defs>\n       <path d=\"M 0 0 \nL -3.5 0 \n\" id=\"ma8ac036191\" style=\"stroke:#000000;stroke-width:0.8;\"/>\n      </defs>\n      <g>\n       <use style=\"stroke:#000000;stroke-width:0.8;\" x=\"146.479688\" xlink:href=\"#ma8ac036191\" y=\"434.832\"/>\n      </g>\n     </g>\n     <g id=\"text_5\">\n      <!-- mean concavity -->\n      <g transform=\"translate(59.825 438.631219)scale(0.1 -0.1)\">\n       <defs>\n        <path d=\"M 52 44.1875 \nQ 55.375 50.25 60.0625 53.125 \nQ 64.75 56 71.09375 56 \nQ 79.640625 56 84.28125 50.015625 \nQ 88.921875 44.046875 88.921875 33.015625 \nL 88.921875 0 \nL 79.890625 0 \nL 79.890625 32.71875 \nQ 79.890625 40.578125 77.09375 44.375 \nQ 74.3125 48.1875 68.609375 48.1875 \nQ 61.625 48.1875 57.5625 43.546875 \nQ 53.515625 38.921875 53.515625 30.90625 \nL 53.515625 0 \nL 44.484375 0 \nL 44.484375 32.71875 \nQ 44.484375 40.625 41.703125 44.40625 \nQ 38.921875 48.1875 33.109375 48.1875 \nQ 26.21875 48.1875 22.15625 43.53125 \nQ 18.109375 38.875 18.109375 30.90625 \nL 18.109375 0 \nL 9.078125 0 \nL 9.078125 54.6875 \nL 18.109375 54.6875 \nL 18.109375 46.1875 \nQ 21.1875 51.21875 25.484375 53.609375 \nQ 29.78125 56 35.6875 56 \nQ 41.65625 56 45.828125 52.96875 \nQ 50 49.953125 52 44.1875 \nz\n\" id=\"DejaVuSans-109\"/>\n        <path d=\"M 56.203125 29.59375 \nL 56.203125 25.203125 \nL 14.890625 25.203125 \nQ 15.484375 15.921875 20.484375 11.0625 \nQ 25.484375 6.203125 34.421875 6.203125 \nQ 39.59375 6.203125 44.453125 7.46875 \nQ 49.3125 8.734375 54.109375 11.28125 \nL 54.109375 2.78125 \nQ 49.265625 0.734375 44.1875 -0.34375 \nQ 39.109375 -1.421875 33.890625 -1.421875 \nQ 20.796875 -1.421875 13.15625 6.1875 \nQ 5.515625 13.8125 5.515625 26.8125 \nQ 5.515625 40.234375 12.765625 48.109375 \nQ 20.015625 56 32.328125 56 \nQ 43.359375 56 49.78125 48.890625 \nQ 56.203125 41.796875 56.203125 29.59375 \nz\nM 47.21875 32.234375 \nQ 47.125 39.59375 43.09375 43.984375 \nQ 39.0625 48.390625 32.421875 48.390625 \nQ 24.90625 48.390625 20.390625 44.140625 \nQ 15.875 39.890625 15.1875 32.171875 \nz\n\" id=\"DejaVuSans-101\"/>\n        <path d=\"M 34.28125 27.484375 \nQ 23.390625 27.484375 19.1875 25 \nQ 14.984375 22.515625 14.984375 16.5 \nQ 14.984375 11.71875 18.140625 8.90625 \nQ 21.296875 6.109375 26.703125 6.109375 \nQ 34.1875 6.109375 38.703125 11.40625 \nQ 43.21875 16.703125 43.21875 25.484375 \nL 43.21875 27.484375 \nz\nM 52.203125 31.203125 \nL 52.203125 0 \nL 43.21875 0 \nL 43.21875 8.296875 \nQ 40.140625 3.328125 35.546875 0.953125 \nQ 30.953125 -1.421875 24.3125 -1.421875 \nQ 15.921875 -1.421875 10.953125 3.296875 \nQ 6 8.015625 6 15.921875 \nQ 6 25.140625 12.171875 29.828125 \nQ 18.359375 34.515625 30.609375 34.515625 \nL 43.21875 34.515625 \nL 43.21875 35.40625 \nQ 43.21875 41.609375 39.140625 45 \nQ 35.0625 48.390625 27.6875 48.390625 \nQ 23 48.390625 18.546875 47.265625 \nQ 14.109375 46.140625 10.015625 43.890625 \nL 10.015625 52.203125 \nQ 14.9375 54.109375 19.578125 55.046875 \nQ 24.21875 56 28.609375 56 \nQ 40.484375 56 46.34375 49.84375 \nQ 52.203125 43.703125 52.203125 31.203125 \nz\n\" id=\"DejaVuSans-97\"/>\n        <path d=\"M 54.890625 33.015625 \nL 54.890625 0 \nL 45.90625 0 \nL 45.90625 32.71875 \nQ 45.90625 40.484375 42.875 44.328125 \nQ 39.84375 48.1875 33.796875 48.1875 \nQ 26.515625 48.1875 22.3125 43.546875 \nQ 18.109375 38.921875 18.109375 30.90625 \nL 18.109375 0 \nL 9.078125 0 \nL 9.078125 54.6875 \nL 18.109375 54.6875 \nL 18.109375 46.1875 \nQ 21.34375 51.125 25.703125 53.5625 \nQ 30.078125 56 35.796875 56 \nQ 45.21875 56 50.046875 50.171875 \nQ 54.890625 44.34375 54.890625 33.015625 \nz\n\" id=\"DejaVuSans-110\"/>\n        <path id=\"DejaVuSans-32\"/>\n        <path d=\"M 48.78125 52.59375 \nL 48.78125 44.1875 \nQ 44.96875 46.296875 41.140625 47.34375 \nQ 37.3125 48.390625 33.40625 48.390625 \nQ 24.65625 48.390625 19.8125 42.84375 \nQ 14.984375 37.3125 14.984375 27.296875 \nQ 14.984375 17.28125 19.8125 11.734375 \nQ 24.65625 6.203125 33.40625 6.203125 \nQ 37.3125 6.203125 41.140625 7.25 \nQ 44.96875 8.296875 48.78125 10.40625 \nL 48.78125 2.09375 \nQ 45.015625 0.34375 40.984375 -0.53125 \nQ 36.96875 -1.421875 32.421875 -1.421875 \nQ 20.0625 -1.421875 12.78125 6.34375 \nQ 5.515625 14.109375 5.515625 27.296875 \nQ 5.515625 40.671875 12.859375 48.328125 \nQ 20.21875 56 33.015625 56 \nQ 37.15625 56 41.109375 55.140625 \nQ 45.0625 54.296875 48.78125 52.59375 \nz\n\" id=\"DejaVuSans-99\"/>\n        <path d=\"M 30.609375 48.390625 \nQ 23.390625 48.390625 19.1875 42.75 \nQ 14.984375 37.109375 14.984375 27.296875 \nQ 14.984375 17.484375 19.15625 11.84375 \nQ 23.34375 6.203125 30.609375 6.203125 \nQ 37.796875 6.203125 41.984375 11.859375 \nQ 46.1875 17.53125 46.1875 27.296875 \nQ 46.1875 37.015625 41.984375 42.703125 \nQ 37.796875 48.390625 30.609375 48.390625 \nz\nM 30.609375 56 \nQ 42.328125 56 49.015625 48.375 \nQ 55.71875 40.765625 55.71875 27.296875 \nQ 55.71875 13.875 49.015625 6.21875 \nQ 42.328125 -1.421875 30.609375 -1.421875 \nQ 18.84375 -1.421875 12.171875 6.21875 \nQ 5.515625 13.875 5.515625 27.296875 \nQ 5.515625 40.765625 12.171875 48.375 \nQ 18.84375 56 30.609375 56 \nz\n\" id=\"DejaVuSans-111\"/>\n        <path d=\"M 2.984375 54.6875 \nL 12.5 54.6875 \nL 29.59375 8.796875 \nL 46.6875 54.6875 \nL 56.203125 54.6875 \nL 35.6875 0 \nL 23.484375 0 \nz\n\" id=\"DejaVuSans-118\"/>\n        <path d=\"M 9.421875 54.6875 \nL 18.40625 54.6875 \nL 18.40625 0 \nL 9.421875 0 \nz\nM 9.421875 75.984375 \nL 18.40625 75.984375 \nL 18.40625 64.59375 \nL 9.421875 64.59375 \nz\n\" id=\"DejaVuSans-105\"/>\n        <path d=\"M 18.3125 70.21875 \nL 18.3125 54.6875 \nL 36.8125 54.6875 \nL 36.8125 47.703125 \nL 18.3125 47.703125 \nL 18.3125 18.015625 \nQ 18.3125 11.328125 20.140625 9.421875 \nQ 21.96875 7.515625 27.59375 7.515625 \nL 36.8125 7.515625 \nL 36.8125 0 \nL 27.59375 0 \nQ 17.1875 0 13.234375 3.875 \nQ 9.28125 7.765625 9.28125 18.015625 \nL 9.28125 47.703125 \nL 2.6875 47.703125 \nL 2.6875 54.6875 \nL 9.28125 54.6875 \nL 9.28125 70.21875 \nz\n\" id=\"DejaVuSans-116\"/>\n        <path d=\"M 32.171875 -5.078125 \nQ 28.375 -14.84375 24.75 -17.8125 \nQ 21.140625 -20.796875 15.09375 -20.796875 \nL 7.90625 -20.796875 \nL 7.90625 -13.28125 \nL 13.1875 -13.28125 \nQ 16.890625 -13.28125 18.9375 -11.515625 \nQ 21 -9.765625 23.484375 -3.21875 \nL 25.09375 0.875 \nL 2.984375 54.6875 \nL 12.5 54.6875 \nL 29.59375 11.921875 \nL 46.6875 54.6875 \nL 56.203125 54.6875 \nz\n\" id=\"DejaVuSans-121\"/>\n       </defs>\n       <use xlink:href=\"#DejaVuSans-109\"/>\n       <use x=\"97.412109\" xlink:href=\"#DejaVuSans-101\"/>\n       <use x=\"158.935547\" xlink:href=\"#DejaVuSans-97\"/>\n       <use x=\"220.214844\" xlink:href=\"#DejaVuSans-110\"/>\n       <use x=\"283.59375\" xlink:href=\"#DejaVuSans-32\"/>\n       <use x=\"315.380859\" xlink:href=\"#DejaVuSans-99\"/>\n       <use x=\"370.361328\" xlink:href=\"#DejaVuSans-111\"/>\n       <use x=\"431.542969\" xlink:href=\"#DejaVuSans-110\"/>\n       <use x=\"494.921875\" xlink:href=\"#DejaVuSans-99\"/>\n       <use x=\"549.902344\" xlink:href=\"#DejaVuSans-97\"/>\n       <use x=\"611.181641\" xlink:href=\"#DejaVuSans-118\"/>\n       <use x=\"670.361328\" xlink:href=\"#DejaVuSans-105\"/>\n       <use x=\"698.144531\" xlink:href=\"#DejaVuSans-116\"/>\n       <use x=\"737.353516\" xlink:href=\"#DejaVuSans-121\"/>\n      </g>\n     </g>\n    </g>\n    <g id=\"ytick_2\">\n     <g id=\"line2d_11\">\n      <path clip-path=\"url(#p054bf86f1e)\" d=\"M 146.479688 420.336 \nL 369.679688 420.336 \n\" style=\"fill:none;stroke:#b0b0b0;stroke-linecap:square;stroke-width:0.8;\"/>\n     </g>\n     <g id=\"line2d_12\">\n      <g>\n       <use style=\"stroke:#000000;stroke-width:0.8;\" x=\"146.479688\" xlink:href=\"#ma8ac036191\" y=\"420.336\"/>\n      </g>\n     </g>\n     <g id=\"text_6\">\n      <!-- mean perimeter -->\n      <g transform=\"translate(58.473438 424.135219)scale(0.1 -0.1)\">\n       <defs>\n        <path d=\"M 18.109375 8.203125 \nL 18.109375 -20.796875 \nL 9.078125 -20.796875 \nL 9.078125 54.6875 \nL 18.109375 54.6875 \nL 18.109375 46.390625 \nQ 20.953125 51.265625 25.265625 53.625 \nQ 29.59375 56 35.59375 56 \nQ 45.5625 56 51.78125 48.09375 \nQ 58.015625 40.1875 58.015625 27.296875 \nQ 58.015625 14.40625 51.78125 6.484375 \nQ 45.5625 -1.421875 35.59375 -1.421875 \nQ 29.59375 -1.421875 25.265625 0.953125 \nQ 20.953125 3.328125 18.109375 8.203125 \nz\nM 48.6875 27.296875 \nQ 48.6875 37.203125 44.609375 42.84375 \nQ 40.53125 48.484375 33.40625 48.484375 \nQ 26.265625 48.484375 22.1875 42.84375 \nQ 18.109375 37.203125 18.109375 27.296875 \nQ 18.109375 17.390625 22.1875 11.75 \nQ 26.265625 6.109375 33.40625 6.109375 \nQ 40.53125 6.109375 44.609375 11.75 \nQ 48.6875 17.390625 48.6875 27.296875 \nz\n\" id=\"DejaVuSans-112\"/>\n        <path d=\"M 41.109375 46.296875 \nQ 39.59375 47.171875 37.8125 47.578125 \nQ 36.03125 48 33.890625 48 \nQ 26.265625 48 22.1875 43.046875 \nQ 18.109375 38.09375 18.109375 28.8125 \nL 18.109375 0 \nL 9.078125 0 \nL 9.078125 54.6875 \nL 18.109375 54.6875 \nL 18.109375 46.1875 \nQ 20.953125 51.171875 25.484375 53.578125 \nQ 30.03125 56 36.53125 56 \nQ 37.453125 56 38.578125 55.875 \nQ 39.703125 55.765625 41.0625 55.515625 \nz\n\" id=\"DejaVuSans-114\"/>\n       </defs>\n       <use xlink:href=\"#DejaVuSans-109\"/>\n       <use x=\"97.412109\" xlink:href=\"#DejaVuSans-101\"/>\n       <use x=\"158.935547\" xlink:href=\"#DejaVuSans-97\"/>\n       <use x=\"220.214844\" xlink:href=\"#DejaVuSans-110\"/>\n       <use x=\"283.59375\" xlink:href=\"#DejaVuSans-32\"/>\n       <use x=\"315.380859\" xlink:href=\"#DejaVuSans-112\"/>\n       <use x=\"378.857422\" xlink:href=\"#DejaVuSans-101\"/>\n       <use x=\"440.380859\" xlink:href=\"#DejaVuSans-114\"/>\n       <use x=\"481.494141\" xlink:href=\"#DejaVuSans-105\"/>\n       <use x=\"509.277344\" xlink:href=\"#DejaVuSans-109\"/>\n       <use x=\"606.689453\" xlink:href=\"#DejaVuSans-101\"/>\n       <use x=\"668.212891\" xlink:href=\"#DejaVuSans-116\"/>\n       <use x=\"707.421875\" xlink:href=\"#DejaVuSans-101\"/>\n       <use x=\"768.945312\" xlink:href=\"#DejaVuSans-114\"/>\n      </g>\n     </g>\n    </g>\n    <g id=\"ytick_3\">\n     <g id=\"line2d_13\">\n      <path clip-path=\"url(#p054bf86f1e)\" d=\"M 146.479688 405.84 \nL 369.679688 405.84 \n\" style=\"fill:none;stroke:#b0b0b0;stroke-linecap:square;stroke-width:0.8;\"/>\n     </g>\n     <g id=\"line2d_14\">\n      <g>\n       <use style=\"stroke:#000000;stroke-width:0.8;\" x=\"146.479688\" xlink:href=\"#ma8ac036191\" y=\"405.84\"/>\n      </g>\n     </g>\n     <g id=\"text_7\">\n      <!-- area error -->\n      <g transform=\"translate(89.801563 409.639219)scale(0.1 -0.1)\">\n       <use xlink:href=\"#DejaVuSans-97\"/>\n       <use x=\"61.279297\" xlink:href=\"#DejaVuSans-114\"/>\n       <use x=\"100.142578\" xlink:href=\"#DejaVuSans-101\"/>\n       <use x=\"161.666016\" xlink:href=\"#DejaVuSans-97\"/>\n       <use x=\"222.945312\" xlink:href=\"#DejaVuSans-32\"/>\n       <use x=\"254.732422\" xlink:href=\"#DejaVuSans-101\"/>\n       <use x=\"316.255859\" xlink:href=\"#DejaVuSans-114\"/>\n       <use x=\"355.619141\" xlink:href=\"#DejaVuSans-114\"/>\n       <use x=\"394.482422\" xlink:href=\"#DejaVuSans-111\"/>\n       <use x=\"455.664062\" xlink:href=\"#DejaVuSans-114\"/>\n      </g>\n     </g>\n    </g>\n    <g id=\"ytick_4\">\n     <g id=\"line2d_15\">\n      <path clip-path=\"url(#p054bf86f1e)\" d=\"M 146.479688 391.344 \nL 369.679688 391.344 \n\" style=\"fill:none;stroke:#b0b0b0;stroke-linecap:square;stroke-width:0.8;\"/>\n     </g>\n     <g id=\"line2d_16\">\n      <g>\n       <use style=\"stroke:#000000;stroke-width:0.8;\" x=\"146.479688\" xlink:href=\"#ma8ac036191\" y=\"391.344\"/>\n      </g>\n     </g>\n     <g id=\"text_8\">\n      <!-- worst concave points -->\n      <g transform=\"translate(33.220313 395.143219)scale(0.1 -0.1)\">\n       <defs>\n        <path d=\"M 4.203125 54.6875 \nL 13.1875 54.6875 \nL 24.421875 12.015625 \nL 35.59375 54.6875 \nL 46.1875 54.6875 \nL 57.421875 12.015625 \nL 68.609375 54.6875 \nL 77.59375 54.6875 \nL 63.28125 0 \nL 52.6875 0 \nL 40.921875 44.828125 \nL 29.109375 0 \nL 18.5 0 \nz\n\" id=\"DejaVuSans-119\"/>\n        <path d=\"M 44.28125 53.078125 \nL 44.28125 44.578125 \nQ 40.484375 46.53125 36.375 47.5 \nQ 32.28125 48.484375 27.875 48.484375 \nQ 21.1875 48.484375 17.84375 46.4375 \nQ 14.5 44.390625 14.5 40.28125 \nQ 14.5 37.15625 16.890625 35.375 \nQ 19.28125 33.59375 26.515625 31.984375 \nL 29.59375 31.296875 \nQ 39.15625 29.25 43.1875 25.515625 \nQ 47.21875 21.78125 47.21875 15.09375 \nQ 47.21875 7.46875 41.1875 3.015625 \nQ 35.15625 -1.421875 24.609375 -1.421875 \nQ 20.21875 -1.421875 15.453125 -0.5625 \nQ 10.6875 0.296875 5.421875 2 \nL 5.421875 11.28125 \nQ 10.40625 8.6875 15.234375 7.390625 \nQ 20.0625 6.109375 24.8125 6.109375 \nQ 31.15625 6.109375 34.5625 8.28125 \nQ 37.984375 10.453125 37.984375 14.40625 \nQ 37.984375 18.0625 35.515625 20.015625 \nQ 33.0625 21.96875 24.703125 23.78125 \nL 21.578125 24.515625 \nQ 13.234375 26.265625 9.515625 29.90625 \nQ 5.8125 33.546875 5.8125 39.890625 \nQ 5.8125 47.609375 11.28125 51.796875 \nQ 16.75 56 26.8125 56 \nQ 31.78125 56 36.171875 55.265625 \nQ 40.578125 54.546875 44.28125 53.078125 \nz\n\" id=\"DejaVuSans-115\"/>\n       </defs>\n       <use xlink:href=\"#DejaVuSans-119\"/>\n       <use x=\"81.787109\" xlink:href=\"#DejaVuSans-111\"/>\n       <use x=\"142.96875\" xlink:href=\"#DejaVuSans-114\"/>\n       <use x=\"184.082031\" xlink:href=\"#DejaVuSans-115\"/>\n       <use x=\"236.181641\" xlink:href=\"#DejaVuSans-116\"/>\n       <use x=\"275.390625\" xlink:href=\"#DejaVuSans-32\"/>\n       <use x=\"307.177734\" xlink:href=\"#DejaVuSans-99\"/>\n       <use x=\"362.158203\" xlink:href=\"#DejaVuSans-111\"/>\n       <use x=\"423.339844\" xlink:href=\"#DejaVuSans-110\"/>\n       <use x=\"486.71875\" xlink:href=\"#DejaVuSans-99\"/>\n       <use x=\"541.699219\" xlink:href=\"#DejaVuSans-97\"/>\n       <use x=\"602.978516\" xlink:href=\"#DejaVuSans-118\"/>\n       <use x=\"662.158203\" xlink:href=\"#DejaVuSans-101\"/>\n       <use x=\"723.681641\" xlink:href=\"#DejaVuSans-32\"/>\n       <use x=\"755.46875\" xlink:href=\"#DejaVuSans-112\"/>\n       <use x=\"818.945312\" xlink:href=\"#DejaVuSans-111\"/>\n       <use x=\"880.126953\" xlink:href=\"#DejaVuSans-105\"/>\n       <use x=\"907.910156\" xlink:href=\"#DejaVuSans-110\"/>\n       <use x=\"971.289062\" xlink:href=\"#DejaVuSans-116\"/>\n       <use x=\"1010.498047\" xlink:href=\"#DejaVuSans-115\"/>\n      </g>\n     </g>\n    </g>\n    <g id=\"ytick_5\">\n     <g id=\"line2d_17\">\n      <path clip-path=\"url(#p054bf86f1e)\" d=\"M 146.479688 376.848 \nL 369.679688 376.848 \n\" style=\"fill:none;stroke:#b0b0b0;stroke-linecap:square;stroke-width:0.8;\"/>\n     </g>\n     <g id=\"line2d_18\">\n      <g>\n       <use style=\"stroke:#000000;stroke-width:0.8;\" x=\"146.479688\" xlink:href=\"#ma8ac036191\" y=\"376.848\"/>\n      </g>\n     </g>\n     <g id=\"text_9\">\n      <!-- mean area -->\n      <g transform=\"translate(85.646875 380.647219)scale(0.1 -0.1)\">\n       <use xlink:href=\"#DejaVuSans-109\"/>\n       <use x=\"97.412109\" xlink:href=\"#DejaVuSans-101\"/>\n       <use x=\"158.935547\" xlink:href=\"#DejaVuSans-97\"/>\n       <use x=\"220.214844\" xlink:href=\"#DejaVuSans-110\"/>\n       <use x=\"283.59375\" xlink:href=\"#DejaVuSans-32\"/>\n       <use x=\"315.380859\" xlink:href=\"#DejaVuSans-97\"/>\n       <use x=\"376.660156\" xlink:href=\"#DejaVuSans-114\"/>\n       <use x=\"415.523438\" xlink:href=\"#DejaVuSans-101\"/>\n       <use x=\"477.046875\" xlink:href=\"#DejaVuSans-97\"/>\n      </g>\n     </g>\n    </g>\n    <g id=\"ytick_6\">\n     <g id=\"line2d_19\">\n      <path clip-path=\"url(#p054bf86f1e)\" d=\"M 146.479688 362.352 \nL 369.679688 362.352 \n\" style=\"fill:none;stroke:#b0b0b0;stroke-linecap:square;stroke-width:0.8;\"/>\n     </g>\n     <g id=\"line2d_20\">\n      <g>\n       <use style=\"stroke:#000000;stroke-width:0.8;\" x=\"146.479688\" xlink:href=\"#ma8ac036191\" y=\"362.352\"/>\n      </g>\n     </g>\n     <g id=\"text_10\">\n      <!-- worst symmetry -->\n      <g transform=\"translate(58.051563 366.151219)scale(0.1 -0.1)\">\n       <use xlink:href=\"#DejaVuSans-119\"/>\n       <use x=\"81.787109\" xlink:href=\"#DejaVuSans-111\"/>\n       <use x=\"142.96875\" xlink:href=\"#DejaVuSans-114\"/>\n       <use x=\"184.082031\" xlink:href=\"#DejaVuSans-115\"/>\n       <use x=\"236.181641\" xlink:href=\"#DejaVuSans-116\"/>\n       <use x=\"275.390625\" xlink:href=\"#DejaVuSans-32\"/>\n       <use x=\"307.177734\" xlink:href=\"#DejaVuSans-115\"/>\n       <use x=\"359.277344\" xlink:href=\"#DejaVuSans-121\"/>\n       <use x=\"418.457031\" xlink:href=\"#DejaVuSans-109\"/>\n       <use x=\"515.869141\" xlink:href=\"#DejaVuSans-109\"/>\n       <use x=\"613.28125\" xlink:href=\"#DejaVuSans-101\"/>\n       <use x=\"674.804688\" xlink:href=\"#DejaVuSans-116\"/>\n       <use x=\"714.013672\" xlink:href=\"#DejaVuSans-114\"/>\n       <use x=\"755.126953\" xlink:href=\"#DejaVuSans-121\"/>\n      </g>\n     </g>\n    </g>\n    <g id=\"ytick_7\">\n     <g id=\"line2d_21\">\n      <path clip-path=\"url(#p054bf86f1e)\" d=\"M 146.479688 347.856 \nL 369.679688 347.856 \n\" style=\"fill:none;stroke:#b0b0b0;stroke-linecap:square;stroke-width:0.8;\"/>\n     </g>\n     <g id=\"line2d_22\">\n      <g>\n       <use style=\"stroke:#000000;stroke-width:0.8;\" x=\"146.479688\" xlink:href=\"#ma8ac036191\" y=\"347.856\"/>\n      </g>\n     </g>\n     <g id=\"text_11\">\n      <!-- mean texture -->\n      <g transform=\"translate(71.828125 351.655219)scale(0.1 -0.1)\">\n       <defs>\n        <path d=\"M 54.890625 54.6875 \nL 35.109375 28.078125 \nL 55.90625 0 \nL 45.3125 0 \nL 29.390625 21.484375 \nL 13.484375 0 \nL 2.875 0 \nL 24.125 28.609375 \nL 4.6875 54.6875 \nL 15.28125 54.6875 \nL 29.78125 35.203125 \nL 44.28125 54.6875 \nz\n\" id=\"DejaVuSans-120\"/>\n        <path d=\"M 8.5 21.578125 \nL 8.5 54.6875 \nL 17.484375 54.6875 \nL 17.484375 21.921875 \nQ 17.484375 14.15625 20.5 10.265625 \nQ 23.53125 6.390625 29.59375 6.390625 \nQ 36.859375 6.390625 41.078125 11.03125 \nQ 45.3125 15.671875 45.3125 23.6875 \nL 45.3125 54.6875 \nL 54.296875 54.6875 \nL 54.296875 0 \nL 45.3125 0 \nL 45.3125 8.40625 \nQ 42.046875 3.421875 37.71875 1 \nQ 33.40625 -1.421875 27.6875 -1.421875 \nQ 18.265625 -1.421875 13.375 4.4375 \nQ 8.5 10.296875 8.5 21.578125 \nz\nM 31.109375 56 \nz\n\" id=\"DejaVuSans-117\"/>\n       </defs>\n       <use xlink:href=\"#DejaVuSans-109\"/>\n       <use x=\"97.412109\" xlink:href=\"#DejaVuSans-101\"/>\n       <use x=\"158.935547\" xlink:href=\"#DejaVuSans-97\"/>\n       <use x=\"220.214844\" xlink:href=\"#DejaVuSans-110\"/>\n       <use x=\"283.59375\" xlink:href=\"#DejaVuSans-32\"/>\n       <use x=\"315.380859\" xlink:href=\"#DejaVuSans-116\"/>\n       <use x=\"354.589844\" xlink:href=\"#DejaVuSans-101\"/>\n       <use x=\"414.363281\" xlink:href=\"#DejaVuSans-120\"/>\n       <use x=\"473.542969\" xlink:href=\"#DejaVuSans-116\"/>\n       <use x=\"512.751953\" xlink:href=\"#DejaVuSans-117\"/>\n       <use x=\"576.130859\" xlink:href=\"#DejaVuSans-114\"/>\n       <use x=\"614.994141\" xlink:href=\"#DejaVuSans-101\"/>\n      </g>\n     </g>\n    </g>\n    <g id=\"ytick_8\">\n     <g id=\"line2d_23\">\n      <path clip-path=\"url(#p054bf86f1e)\" d=\"M 146.479688 333.36 \nL 369.679688 333.36 \n\" style=\"fill:none;stroke:#b0b0b0;stroke-linecap:square;stroke-width:0.8;\"/>\n     </g>\n     <g id=\"line2d_24\">\n      <g>\n       <use style=\"stroke:#000000;stroke-width:0.8;\" x=\"146.479688\" xlink:href=\"#ma8ac036191\" y=\"333.36\"/>\n      </g>\n     </g>\n     <g id=\"text_12\">\n      <!-- texture error -->\n      <g transform=\"translate(75.982813 337.159219)scale(0.1 -0.1)\">\n       <use xlink:href=\"#DejaVuSans-116\"/>\n       <use x=\"39.208984\" xlink:href=\"#DejaVuSans-101\"/>\n       <use x=\"98.982422\" xlink:href=\"#DejaVuSans-120\"/>\n       <use x=\"158.162109\" xlink:href=\"#DejaVuSans-116\"/>\n       <use x=\"197.371094\" xlink:href=\"#DejaVuSans-117\"/>\n       <use x=\"260.75\" xlink:href=\"#DejaVuSans-114\"/>\n       <use x=\"299.613281\" xlink:href=\"#DejaVuSans-101\"/>\n       <use x=\"361.136719\" xlink:href=\"#DejaVuSans-32\"/>\n       <use x=\"392.923828\" xlink:href=\"#DejaVuSans-101\"/>\n       <use x=\"454.447266\" xlink:href=\"#DejaVuSans-114\"/>\n       <use x=\"493.810547\" xlink:href=\"#DejaVuSans-114\"/>\n       <use x=\"532.673828\" xlink:href=\"#DejaVuSans-111\"/>\n       <use x=\"593.855469\" xlink:href=\"#DejaVuSans-114\"/>\n      </g>\n     </g>\n    </g>\n    <g id=\"ytick_9\">\n     <g id=\"line2d_25\">\n      <path clip-path=\"url(#p054bf86f1e)\" d=\"M 146.479688 318.864 \nL 369.679688 318.864 \n\" style=\"fill:none;stroke:#b0b0b0;stroke-linecap:square;stroke-width:0.8;\"/>\n     </g>\n     <g id=\"line2d_26\">\n      <g>\n       <use style=\"stroke:#000000;stroke-width:0.8;\" x=\"146.479688\" xlink:href=\"#ma8ac036191\" y=\"318.864\"/>\n      </g>\n     </g>\n     <g id=\"text_13\">\n      <!-- mean radius -->\n      <g transform=\"translate(77.029688 322.663219)scale(0.1 -0.1)\">\n       <defs>\n        <path d=\"M 45.40625 46.390625 \nL 45.40625 75.984375 \nL 54.390625 75.984375 \nL 54.390625 0 \nL 45.40625 0 \nL 45.40625 8.203125 \nQ 42.578125 3.328125 38.25 0.953125 \nQ 33.9375 -1.421875 27.875 -1.421875 \nQ 17.96875 -1.421875 11.734375 6.484375 \nQ 5.515625 14.40625 5.515625 27.296875 \nQ 5.515625 40.1875 11.734375 48.09375 \nQ 17.96875 56 27.875 56 \nQ 33.9375 56 38.25 53.625 \nQ 42.578125 51.265625 45.40625 46.390625 \nz\nM 14.796875 27.296875 \nQ 14.796875 17.390625 18.875 11.75 \nQ 22.953125 6.109375 30.078125 6.109375 \nQ 37.203125 6.109375 41.296875 11.75 \nQ 45.40625 17.390625 45.40625 27.296875 \nQ 45.40625 37.203125 41.296875 42.84375 \nQ 37.203125 48.484375 30.078125 48.484375 \nQ 22.953125 48.484375 18.875 42.84375 \nQ 14.796875 37.203125 14.796875 27.296875 \nz\n\" id=\"DejaVuSans-100\"/>\n       </defs>\n       <use xlink:href=\"#DejaVuSans-109\"/>\n       <use x=\"97.412109\" xlink:href=\"#DejaVuSans-101\"/>\n       <use x=\"158.935547\" xlink:href=\"#DejaVuSans-97\"/>\n       <use x=\"220.214844\" xlink:href=\"#DejaVuSans-110\"/>\n       <use x=\"283.59375\" xlink:href=\"#DejaVuSans-32\"/>\n       <use x=\"315.380859\" xlink:href=\"#DejaVuSans-114\"/>\n       <use x=\"356.494141\" xlink:href=\"#DejaVuSans-97\"/>\n       <use x=\"417.773438\" xlink:href=\"#DejaVuSans-100\"/>\n       <use x=\"481.25\" xlink:href=\"#DejaVuSans-105\"/>\n       <use x=\"509.033203\" xlink:href=\"#DejaVuSans-117\"/>\n       <use x=\"572.412109\" xlink:href=\"#DejaVuSans-115\"/>\n      </g>\n     </g>\n    </g>\n    <g id=\"ytick_10\">\n     <g id=\"line2d_27\">\n      <path clip-path=\"url(#p054bf86f1e)\" d=\"M 146.479688 304.368 \nL 369.679688 304.368 \n\" style=\"fill:none;stroke:#b0b0b0;stroke-linecap:square;stroke-width:0.8;\"/>\n     </g>\n     <g id=\"line2d_28\">\n      <g>\n       <use style=\"stroke:#000000;stroke-width:0.8;\" x=\"146.479688\" xlink:href=\"#ma8ac036191\" y=\"304.368\"/>\n      </g>\n     </g>\n     <g id=\"text_14\">\n      <!-- worst compactness -->\n      <g transform=\"translate(42.601562 308.167219)scale(0.1 -0.1)\">\n       <use xlink:href=\"#DejaVuSans-119\"/>\n       <use x=\"81.787109\" xlink:href=\"#DejaVuSans-111\"/>\n       <use x=\"142.96875\" xlink:href=\"#DejaVuSans-114\"/>\n       <use x=\"184.082031\" xlink:href=\"#DejaVuSans-115\"/>\n       <use x=\"236.181641\" xlink:href=\"#DejaVuSans-116\"/>\n       <use x=\"275.390625\" xlink:href=\"#DejaVuSans-32\"/>\n       <use x=\"307.177734\" xlink:href=\"#DejaVuSans-99\"/>\n       <use x=\"362.158203\" xlink:href=\"#DejaVuSans-111\"/>\n       <use x=\"423.339844\" xlink:href=\"#DejaVuSans-109\"/>\n       <use x=\"520.751953\" xlink:href=\"#DejaVuSans-112\"/>\n       <use x=\"584.228516\" xlink:href=\"#DejaVuSans-97\"/>\n       <use x=\"645.507812\" xlink:href=\"#DejaVuSans-99\"/>\n       <use x=\"700.488281\" xlink:href=\"#DejaVuSans-116\"/>\n       <use x=\"739.697266\" xlink:href=\"#DejaVuSans-110\"/>\n       <use x=\"803.076172\" xlink:href=\"#DejaVuSans-101\"/>\n       <use x=\"864.599609\" xlink:href=\"#DejaVuSans-115\"/>\n       <use x=\"916.699219\" xlink:href=\"#DejaVuSans-115\"/>\n      </g>\n     </g>\n    </g>\n    <g id=\"ytick_11\">\n     <g id=\"line2d_29\">\n      <path clip-path=\"url(#p054bf86f1e)\" d=\"M 146.479688 289.872 \nL 369.679688 289.872 \n\" style=\"fill:none;stroke:#b0b0b0;stroke-linecap:square;stroke-width:0.8;\"/>\n     </g>\n     <g id=\"line2d_30\">\n      <g>\n       <use style=\"stroke:#000000;stroke-width:0.8;\" x=\"146.479688\" xlink:href=\"#ma8ac036191\" y=\"289.872\"/>\n      </g>\n     </g>\n     <g id=\"text_15\">\n      <!-- worst smoothness -->\n      <g transform=\"translate(48.409375 293.671219)scale(0.1 -0.1)\">\n       <defs>\n        <path d=\"M 54.890625 33.015625 \nL 54.890625 0 \nL 45.90625 0 \nL 45.90625 32.71875 \nQ 45.90625 40.484375 42.875 44.328125 \nQ 39.84375 48.1875 33.796875 48.1875 \nQ 26.515625 48.1875 22.3125 43.546875 \nQ 18.109375 38.921875 18.109375 30.90625 \nL 18.109375 0 \nL 9.078125 0 \nL 9.078125 75.984375 \nL 18.109375 75.984375 \nL 18.109375 46.1875 \nQ 21.34375 51.125 25.703125 53.5625 \nQ 30.078125 56 35.796875 56 \nQ 45.21875 56 50.046875 50.171875 \nQ 54.890625 44.34375 54.890625 33.015625 \nz\n\" id=\"DejaVuSans-104\"/>\n       </defs>\n       <use xlink:href=\"#DejaVuSans-119\"/>\n       <use x=\"81.787109\" xlink:href=\"#DejaVuSans-111\"/>\n       <use x=\"142.96875\" xlink:href=\"#DejaVuSans-114\"/>\n       <use x=\"184.082031\" xlink:href=\"#DejaVuSans-115\"/>\n       <use x=\"236.181641\" xlink:href=\"#DejaVuSans-116\"/>\n       <use x=\"275.390625\" xlink:href=\"#DejaVuSans-32\"/>\n       <use x=\"307.177734\" xlink:href=\"#DejaVuSans-115\"/>\n       <use x=\"359.277344\" xlink:href=\"#DejaVuSans-109\"/>\n       <use x=\"456.689453\" xlink:href=\"#DejaVuSans-111\"/>\n       <use x=\"517.871094\" xlink:href=\"#DejaVuSans-111\"/>\n       <use x=\"579.052734\" xlink:href=\"#DejaVuSans-116\"/>\n       <use x=\"618.261719\" xlink:href=\"#DejaVuSans-104\"/>\n       <use x=\"681.640625\" xlink:href=\"#DejaVuSans-110\"/>\n       <use x=\"745.019531\" xlink:href=\"#DejaVuSans-101\"/>\n       <use x=\"806.542969\" xlink:href=\"#DejaVuSans-115\"/>\n       <use x=\"858.642578\" xlink:href=\"#DejaVuSans-115\"/>\n      </g>\n     </g>\n    </g>\n    <g id=\"ytick_12\">\n     <g id=\"line2d_31\">\n      <path clip-path=\"url(#p054bf86f1e)\" d=\"M 146.479688 275.376 \nL 369.679688 275.376 \n\" style=\"fill:none;stroke:#b0b0b0;stroke-linecap:square;stroke-width:0.8;\"/>\n     </g>\n     <g id=\"line2d_32\">\n      <g>\n       <use style=\"stroke:#000000;stroke-width:0.8;\" x=\"146.479688\" xlink:href=\"#ma8ac036191\" y=\"275.376\"/>\n      </g>\n     </g>\n     <g id=\"text_16\">\n      <!-- fractal dimension error -->\n      <g transform=\"translate(25.032813 279.175219)scale(0.1 -0.1)\">\n       <defs>\n        <path d=\"M 37.109375 75.984375 \nL 37.109375 68.5 \nL 28.515625 68.5 \nQ 23.6875 68.5 21.796875 66.546875 \nQ 19.921875 64.59375 19.921875 59.515625 \nL 19.921875 54.6875 \nL 34.71875 54.6875 \nL 34.71875 47.703125 \nL 19.921875 47.703125 \nL 19.921875 0 \nL 10.890625 0 \nL 10.890625 47.703125 \nL 2.296875 47.703125 \nL 2.296875 54.6875 \nL 10.890625 54.6875 \nL 10.890625 58.5 \nQ 10.890625 67.625 15.140625 71.796875 \nQ 19.390625 75.984375 28.609375 75.984375 \nz\n\" id=\"DejaVuSans-102\"/>\n        <path d=\"M 9.421875 75.984375 \nL 18.40625 75.984375 \nL 18.40625 0 \nL 9.421875 0 \nz\n\" id=\"DejaVuSans-108\"/>\n       </defs>\n       <use xlink:href=\"#DejaVuSans-102\"/>\n       <use x=\"35.205078\" xlink:href=\"#DejaVuSans-114\"/>\n       <use x=\"76.318359\" xlink:href=\"#DejaVuSans-97\"/>\n       <use x=\"137.597656\" xlink:href=\"#DejaVuSans-99\"/>\n       <use x=\"192.578125\" xlink:href=\"#DejaVuSans-116\"/>\n       <use x=\"231.787109\" xlink:href=\"#DejaVuSans-97\"/>\n       <use x=\"293.066406\" xlink:href=\"#DejaVuSans-108\"/>\n       <use x=\"320.849609\" xlink:href=\"#DejaVuSans-32\"/>\n       <use x=\"352.636719\" xlink:href=\"#DejaVuSans-100\"/>\n       <use x=\"416.113281\" xlink:href=\"#DejaVuSans-105\"/>\n       <use x=\"443.896484\" xlink:href=\"#DejaVuSans-109\"/>\n       <use x=\"541.308594\" xlink:href=\"#DejaVuSans-101\"/>\n       <use x=\"602.832031\" xlink:href=\"#DejaVuSans-110\"/>\n       <use x=\"666.210938\" xlink:href=\"#DejaVuSans-115\"/>\n       <use x=\"718.310547\" xlink:href=\"#DejaVuSans-105\"/>\n       <use x=\"746.09375\" xlink:href=\"#DejaVuSans-111\"/>\n       <use x=\"807.275391\" xlink:href=\"#DejaVuSans-110\"/>\n       <use x=\"870.654297\" xlink:href=\"#DejaVuSans-32\"/>\n       <use x=\"902.441406\" xlink:href=\"#DejaVuSans-101\"/>\n       <use x=\"963.964844\" xlink:href=\"#DejaVuSans-114\"/>\n       <use x=\"1003.328125\" xlink:href=\"#DejaVuSans-114\"/>\n       <use x=\"1042.191406\" xlink:href=\"#DejaVuSans-111\"/>\n       <use x=\"1103.373047\" xlink:href=\"#DejaVuSans-114\"/>\n      </g>\n     </g>\n    </g>\n    <g id=\"ytick_13\">\n     <g id=\"line2d_33\">\n      <path clip-path=\"url(#p054bf86f1e)\" d=\"M 146.479688 260.88 \nL 369.679688 260.88 \n\" style=\"fill:none;stroke:#b0b0b0;stroke-linecap:square;stroke-width:0.8;\"/>\n     </g>\n     <g id=\"line2d_34\">\n      <g>\n       <use style=\"stroke:#000000;stroke-width:0.8;\" x=\"146.479688\" xlink:href=\"#ma8ac036191\" y=\"260.88\"/>\n      </g>\n     </g>\n     <g id=\"text_17\">\n      <!-- symmetry error -->\n      <g transform=\"translate(61.384375 264.679219)scale(0.1 -0.1)\">\n       <use xlink:href=\"#DejaVuSans-115\"/>\n       <use x=\"52.099609\" xlink:href=\"#DejaVuSans-121\"/>\n       <use x=\"111.279297\" xlink:href=\"#DejaVuSans-109\"/>\n       <use x=\"208.691406\" xlink:href=\"#DejaVuSans-109\"/>\n       <use x=\"306.103516\" xlink:href=\"#DejaVuSans-101\"/>\n       <use x=\"367.626953\" xlink:href=\"#DejaVuSans-116\"/>\n       <use x=\"406.835938\" xlink:href=\"#DejaVuSans-114\"/>\n       <use x=\"447.949219\" xlink:href=\"#DejaVuSans-121\"/>\n       <use x=\"507.128906\" xlink:href=\"#DejaVuSans-32\"/>\n       <use x=\"538.916016\" xlink:href=\"#DejaVuSans-101\"/>\n       <use x=\"600.439453\" xlink:href=\"#DejaVuSans-114\"/>\n       <use x=\"639.802734\" xlink:href=\"#DejaVuSans-114\"/>\n       <use x=\"678.666016\" xlink:href=\"#DejaVuSans-111\"/>\n       <use x=\"739.847656\" xlink:href=\"#DejaVuSans-114\"/>\n      </g>\n     </g>\n    </g>\n    <g id=\"ytick_14\">\n     <g id=\"line2d_35\">\n      <path clip-path=\"url(#p054bf86f1e)\" d=\"M 146.479688 246.384 \nL 369.679688 246.384 \n\" style=\"fill:none;stroke:#b0b0b0;stroke-linecap:square;stroke-width:0.8;\"/>\n     </g>\n     <g id=\"line2d_36\">\n      <g>\n       <use style=\"stroke:#000000;stroke-width:0.8;\" x=\"146.479688\" xlink:href=\"#ma8ac036191\" y=\"246.384\"/>\n      </g>\n     </g>\n     <g id=\"text_18\">\n      <!-- concave points error -->\n      <g transform=\"translate(36.553125 250.183219)scale(0.1 -0.1)\">\n       <use xlink:href=\"#DejaVuSans-99\"/>\n       <use x=\"54.980469\" xlink:href=\"#DejaVuSans-111\"/>\n       <use x=\"116.162109\" xlink:href=\"#DejaVuSans-110\"/>\n       <use x=\"179.541016\" xlink:href=\"#DejaVuSans-99\"/>\n       <use x=\"234.521484\" xlink:href=\"#DejaVuSans-97\"/>\n       <use x=\"295.800781\" xlink:href=\"#DejaVuSans-118\"/>\n       <use x=\"354.980469\" xlink:href=\"#DejaVuSans-101\"/>\n       <use x=\"416.503906\" xlink:href=\"#DejaVuSans-32\"/>\n       <use x=\"448.291016\" xlink:href=\"#DejaVuSans-112\"/>\n       <use x=\"511.767578\" xlink:href=\"#DejaVuSans-111\"/>\n       <use x=\"572.949219\" xlink:href=\"#DejaVuSans-105\"/>\n       <use x=\"600.732422\" xlink:href=\"#DejaVuSans-110\"/>\n       <use x=\"664.111328\" xlink:href=\"#DejaVuSans-116\"/>\n       <use x=\"703.320312\" xlink:href=\"#DejaVuSans-115\"/>\n       <use x=\"755.419922\" xlink:href=\"#DejaVuSans-32\"/>\n       <use x=\"787.207031\" xlink:href=\"#DejaVuSans-101\"/>\n       <use x=\"848.730469\" xlink:href=\"#DejaVuSans-114\"/>\n       <use x=\"888.09375\" xlink:href=\"#DejaVuSans-114\"/>\n       <use x=\"926.957031\" xlink:href=\"#DejaVuSans-111\"/>\n       <use x=\"988.138672\" xlink:href=\"#DejaVuSans-114\"/>\n      </g>\n     </g>\n    </g>\n    <g id=\"ytick_15\">\n     <g id=\"line2d_37\">\n      <path clip-path=\"url(#p054bf86f1e)\" d=\"M 146.479688 231.888 \nL 369.679688 231.888 \n\" style=\"fill:none;stroke:#b0b0b0;stroke-linecap:square;stroke-width:0.8;\"/>\n     </g>\n     <g id=\"line2d_38\">\n      <g>\n       <use style=\"stroke:#000000;stroke-width:0.8;\" x=\"146.479688\" xlink:href=\"#ma8ac036191\" y=\"231.888\"/>\n      </g>\n     </g>\n     <g id=\"text_19\">\n      <!-- concavity error -->\n      <g transform=\"translate(63.979688 235.687219)scale(0.1 -0.1)\">\n       <use xlink:href=\"#DejaVuSans-99\"/>\n       <use x=\"54.980469\" xlink:href=\"#DejaVuSans-111\"/>\n       <use x=\"116.162109\" xlink:href=\"#DejaVuSans-110\"/>\n       <use x=\"179.541016\" xlink:href=\"#DejaVuSans-99\"/>\n       <use x=\"234.521484\" xlink:href=\"#DejaVuSans-97\"/>\n       <use x=\"295.800781\" xlink:href=\"#DejaVuSans-118\"/>\n       <use x=\"354.980469\" xlink:href=\"#DejaVuSans-105\"/>\n       <use x=\"382.763672\" xlink:href=\"#DejaVuSans-116\"/>\n       <use x=\"421.972656\" xlink:href=\"#DejaVuSans-121\"/>\n       <use x=\"481.152344\" xlink:href=\"#DejaVuSans-32\"/>\n       <use x=\"512.939453\" xlink:href=\"#DejaVuSans-101\"/>\n       <use x=\"574.462891\" xlink:href=\"#DejaVuSans-114\"/>\n       <use x=\"613.826172\" xlink:href=\"#DejaVuSans-114\"/>\n       <use x=\"652.689453\" xlink:href=\"#DejaVuSans-111\"/>\n       <use x=\"713.871094\" xlink:href=\"#DejaVuSans-114\"/>\n      </g>\n     </g>\n    </g>\n    <g id=\"ytick_16\">\n     <g id=\"line2d_39\">\n      <path clip-path=\"url(#p054bf86f1e)\" d=\"M 146.479688 217.392 \nL 369.679688 217.392 \n\" style=\"fill:none;stroke:#b0b0b0;stroke-linecap:square;stroke-width:0.8;\"/>\n     </g>\n     <g id=\"line2d_40\">\n      <g>\n       <use style=\"stroke:#000000;stroke-width:0.8;\" x=\"146.479688\" xlink:href=\"#ma8ac036191\" y=\"217.392\"/>\n      </g>\n     </g>\n     <g id=\"text_20\">\n      <!-- smoothness error -->\n      <g transform=\"translate(51.742188 221.191219)scale(0.1 -0.1)\">\n       <use xlink:href=\"#DejaVuSans-115\"/>\n       <use x=\"52.099609\" xlink:href=\"#DejaVuSans-109\"/>\n       <use x=\"149.511719\" xlink:href=\"#DejaVuSans-111\"/>\n       <use x=\"210.693359\" xlink:href=\"#DejaVuSans-111\"/>\n       <use x=\"271.875\" xlink:href=\"#DejaVuSans-116\"/>\n       <use x=\"311.083984\" xlink:href=\"#DejaVuSans-104\"/>\n       <use x=\"374.462891\" xlink:href=\"#DejaVuSans-110\"/>\n       <use x=\"437.841797\" xlink:href=\"#DejaVuSans-101\"/>\n       <use x=\"499.365234\" xlink:href=\"#DejaVuSans-115\"/>\n       <use x=\"551.464844\" xlink:href=\"#DejaVuSans-115\"/>\n       <use x=\"603.564453\" xlink:href=\"#DejaVuSans-32\"/>\n       <use x=\"635.351562\" xlink:href=\"#DejaVuSans-101\"/>\n       <use x=\"696.875\" xlink:href=\"#DejaVuSans-114\"/>\n       <use x=\"736.238281\" xlink:href=\"#DejaVuSans-114\"/>\n       <use x=\"775.101562\" xlink:href=\"#DejaVuSans-111\"/>\n       <use x=\"836.283203\" xlink:href=\"#DejaVuSans-114\"/>\n      </g>\n     </g>\n    </g>\n    <g id=\"ytick_17\">\n     <g id=\"line2d_41\">\n      <path clip-path=\"url(#p054bf86f1e)\" d=\"M 146.479688 202.896 \nL 369.679688 202.896 \n\" style=\"fill:none;stroke:#b0b0b0;stroke-linecap:square;stroke-width:0.8;\"/>\n     </g>\n     <g id=\"line2d_42\">\n      <g>\n       <use style=\"stroke:#000000;stroke-width:0.8;\" x=\"146.479688\" xlink:href=\"#ma8ac036191\" y=\"202.896\"/>\n      </g>\n     </g>\n     <g id=\"text_21\">\n      <!-- perimeter error -->\n      <g transform=\"translate(62.628125 206.695219)scale(0.1 -0.1)\">\n       <use xlink:href=\"#DejaVuSans-112\"/>\n       <use x=\"63.476562\" xlink:href=\"#DejaVuSans-101\"/>\n       <use x=\"125\" xlink:href=\"#DejaVuSans-114\"/>\n       <use x=\"166.113281\" xlink:href=\"#DejaVuSans-105\"/>\n       <use x=\"193.896484\" xlink:href=\"#DejaVuSans-109\"/>\n       <use x=\"291.308594\" xlink:href=\"#DejaVuSans-101\"/>\n       <use x=\"352.832031\" xlink:href=\"#DejaVuSans-116\"/>\n       <use x=\"392.041016\" xlink:href=\"#DejaVuSans-101\"/>\n       <use x=\"453.564453\" xlink:href=\"#DejaVuSans-114\"/>\n       <use x=\"494.677734\" xlink:href=\"#DejaVuSans-32\"/>\n       <use x=\"526.464844\" xlink:href=\"#DejaVuSans-101\"/>\n       <use x=\"587.988281\" xlink:href=\"#DejaVuSans-114\"/>\n       <use x=\"627.351562\" xlink:href=\"#DejaVuSans-114\"/>\n       <use x=\"666.214844\" xlink:href=\"#DejaVuSans-111\"/>\n       <use x=\"727.396484\" xlink:href=\"#DejaVuSans-114\"/>\n      </g>\n     </g>\n    </g>\n    <g id=\"ytick_18\">\n     <g id=\"line2d_43\">\n      <path clip-path=\"url(#p054bf86f1e)\" d=\"M 146.479688 188.4 \nL 369.679688 188.4 \n\" style=\"fill:none;stroke:#b0b0b0;stroke-linecap:square;stroke-width:0.8;\"/>\n     </g>\n     <g id=\"line2d_44\">\n      <g>\n       <use style=\"stroke:#000000;stroke-width:0.8;\" x=\"146.479688\" xlink:href=\"#ma8ac036191\" y=\"188.4\"/>\n      </g>\n     </g>\n     <g id=\"text_22\">\n      <!-- radius error -->\n      <g transform=\"translate(81.184375 192.199219)scale(0.1 -0.1)\">\n       <use xlink:href=\"#DejaVuSans-114\"/>\n       <use x=\"41.113281\" xlink:href=\"#DejaVuSans-97\"/>\n       <use x=\"102.392578\" xlink:href=\"#DejaVuSans-100\"/>\n       <use x=\"165.869141\" xlink:href=\"#DejaVuSans-105\"/>\n       <use x=\"193.652344\" xlink:href=\"#DejaVuSans-117\"/>\n       <use x=\"257.03125\" xlink:href=\"#DejaVuSans-115\"/>\n       <use x=\"309.130859\" xlink:href=\"#DejaVuSans-32\"/>\n       <use x=\"340.917969\" xlink:href=\"#DejaVuSans-101\"/>\n       <use x=\"402.441406\" xlink:href=\"#DejaVuSans-114\"/>\n       <use x=\"441.804688\" xlink:href=\"#DejaVuSans-114\"/>\n       <use x=\"480.667969\" xlink:href=\"#DejaVuSans-111\"/>\n       <use x=\"541.849609\" xlink:href=\"#DejaVuSans-114\"/>\n      </g>\n     </g>\n    </g>\n    <g id=\"ytick_19\">\n     <g id=\"line2d_45\">\n      <path clip-path=\"url(#p054bf86f1e)\" d=\"M 146.479688 173.904 \nL 369.679688 173.904 \n\" style=\"fill:none;stroke:#b0b0b0;stroke-linecap:square;stroke-width:0.8;\"/>\n     </g>\n     <g id=\"line2d_46\">\n      <g>\n       <use style=\"stroke:#000000;stroke-width:0.8;\" x=\"146.479688\" xlink:href=\"#ma8ac036191\" y=\"173.904\"/>\n      </g>\n     </g>\n     <g id=\"text_23\">\n      <!-- mean fractal dimension -->\n      <g transform=\"translate(20.878125 177.703219)scale(0.1 -0.1)\">\n       <use xlink:href=\"#DejaVuSans-109\"/>\n       <use x=\"97.412109\" xlink:href=\"#DejaVuSans-101\"/>\n       <use x=\"158.935547\" xlink:href=\"#DejaVuSans-97\"/>\n       <use x=\"220.214844\" xlink:href=\"#DejaVuSans-110\"/>\n       <use x=\"283.59375\" xlink:href=\"#DejaVuSans-32\"/>\n       <use x=\"315.380859\" xlink:href=\"#DejaVuSans-102\"/>\n       <use x=\"350.585938\" xlink:href=\"#DejaVuSans-114\"/>\n       <use x=\"391.699219\" xlink:href=\"#DejaVuSans-97\"/>\n       <use x=\"452.978516\" xlink:href=\"#DejaVuSans-99\"/>\n       <use x=\"507.958984\" xlink:href=\"#DejaVuSans-116\"/>\n       <use x=\"547.167969\" xlink:href=\"#DejaVuSans-97\"/>\n       <use x=\"608.447266\" xlink:href=\"#DejaVuSans-108\"/>\n       <use x=\"636.230469\" xlink:href=\"#DejaVuSans-32\"/>\n       <use x=\"668.017578\" xlink:href=\"#DejaVuSans-100\"/>\n       <use x=\"731.494141\" xlink:href=\"#DejaVuSans-105\"/>\n       <use x=\"759.277344\" xlink:href=\"#DejaVuSans-109\"/>\n       <use x=\"856.689453\" xlink:href=\"#DejaVuSans-101\"/>\n       <use x=\"918.212891\" xlink:href=\"#DejaVuSans-110\"/>\n       <use x=\"981.591797\" xlink:href=\"#DejaVuSans-115\"/>\n       <use x=\"1033.691406\" xlink:href=\"#DejaVuSans-105\"/>\n       <use x=\"1061.474609\" xlink:href=\"#DejaVuSans-111\"/>\n       <use x=\"1122.65625\" xlink:href=\"#DejaVuSans-110\"/>\n      </g>\n     </g>\n    </g>\n    <g id=\"ytick_20\">\n     <g id=\"line2d_47\">\n      <path clip-path=\"url(#p054bf86f1e)\" d=\"M 146.479688 159.408 \nL 369.679688 159.408 \n\" style=\"fill:none;stroke:#b0b0b0;stroke-linecap:square;stroke-width:0.8;\"/>\n     </g>\n     <g id=\"line2d_48\">\n      <g>\n       <use style=\"stroke:#000000;stroke-width:0.8;\" x=\"146.479688\" xlink:href=\"#ma8ac036191\" y=\"159.408\"/>\n      </g>\n     </g>\n     <g id=\"text_24\">\n      <!-- mean symmetry -->\n      <g transform=\"translate(57.229688 163.207219)scale(0.1 -0.1)\">\n       <use xlink:href=\"#DejaVuSans-109\"/>\n       <use x=\"97.412109\" xlink:href=\"#DejaVuSans-101\"/>\n       <use x=\"158.935547\" xlink:href=\"#DejaVuSans-97\"/>\n       <use x=\"220.214844\" xlink:href=\"#DejaVuSans-110\"/>\n       <use x=\"283.59375\" xlink:href=\"#DejaVuSans-32\"/>\n       <use x=\"315.380859\" xlink:href=\"#DejaVuSans-115\"/>\n       <use x=\"367.480469\" xlink:href=\"#DejaVuSans-121\"/>\n       <use x=\"426.660156\" xlink:href=\"#DejaVuSans-109\"/>\n       <use x=\"524.072266\" xlink:href=\"#DejaVuSans-109\"/>\n       <use x=\"621.484375\" xlink:href=\"#DejaVuSans-101\"/>\n       <use x=\"683.007812\" xlink:href=\"#DejaVuSans-116\"/>\n       <use x=\"722.216797\" xlink:href=\"#DejaVuSans-114\"/>\n       <use x=\"763.330078\" xlink:href=\"#DejaVuSans-121\"/>\n      </g>\n     </g>\n    </g>\n    <g id=\"ytick_21\">\n     <g id=\"line2d_49\">\n      <path clip-path=\"url(#p054bf86f1e)\" d=\"M 146.479688 144.912 \nL 369.679688 144.912 \n\" style=\"fill:none;stroke:#b0b0b0;stroke-linecap:square;stroke-width:0.8;\"/>\n     </g>\n     <g id=\"line2d_50\">\n      <g>\n       <use style=\"stroke:#000000;stroke-width:0.8;\" x=\"146.479688\" xlink:href=\"#ma8ac036191\" y=\"144.912\"/>\n      </g>\n     </g>\n     <g id=\"text_25\">\n      <!-- mean compactness -->\n      <g transform=\"translate(41.779688 148.711219)scale(0.1 -0.1)\">\n       <use xlink:href=\"#DejaVuSans-109\"/>\n       <use x=\"97.412109\" xlink:href=\"#DejaVuSans-101\"/>\n       <use x=\"158.935547\" xlink:href=\"#DejaVuSans-97\"/>\n       <use x=\"220.214844\" xlink:href=\"#DejaVuSans-110\"/>\n       <use x=\"283.59375\" xlink:href=\"#DejaVuSans-32\"/>\n       <use x=\"315.380859\" xlink:href=\"#DejaVuSans-99\"/>\n       <use x=\"370.361328\" xlink:href=\"#DejaVuSans-111\"/>\n       <use x=\"431.542969\" xlink:href=\"#DejaVuSans-109\"/>\n       <use x=\"528.955078\" xlink:href=\"#DejaVuSans-112\"/>\n       <use x=\"592.431641\" xlink:href=\"#DejaVuSans-97\"/>\n       <use x=\"653.710938\" xlink:href=\"#DejaVuSans-99\"/>\n       <use x=\"708.691406\" xlink:href=\"#DejaVuSans-116\"/>\n       <use x=\"747.900391\" xlink:href=\"#DejaVuSans-110\"/>\n       <use x=\"811.279297\" xlink:href=\"#DejaVuSans-101\"/>\n       <use x=\"872.802734\" xlink:href=\"#DejaVuSans-115\"/>\n       <use x=\"924.902344\" xlink:href=\"#DejaVuSans-115\"/>\n      </g>\n     </g>\n    </g>\n    <g id=\"ytick_22\">\n     <g id=\"line2d_51\">\n      <path clip-path=\"url(#p054bf86f1e)\" d=\"M 146.479688 130.416 \nL 369.679688 130.416 \n\" style=\"fill:none;stroke:#b0b0b0;stroke-linecap:square;stroke-width:0.8;\"/>\n     </g>\n     <g id=\"line2d_52\">\n      <g>\n       <use style=\"stroke:#000000;stroke-width:0.8;\" x=\"146.479688\" xlink:href=\"#ma8ac036191\" y=\"130.416\"/>\n      </g>\n     </g>\n     <g id=\"text_26\">\n      <!-- mean smoothness -->\n      <g transform=\"translate(47.5875 134.215219)scale(0.1 -0.1)\">\n       <use xlink:href=\"#DejaVuSans-109\"/>\n       <use x=\"97.412109\" xlink:href=\"#DejaVuSans-101\"/>\n       <use x=\"158.935547\" xlink:href=\"#DejaVuSans-97\"/>\n       <use x=\"220.214844\" xlink:href=\"#DejaVuSans-110\"/>\n       <use x=\"283.59375\" xlink:href=\"#DejaVuSans-32\"/>\n       <use x=\"315.380859\" xlink:href=\"#DejaVuSans-115\"/>\n       <use x=\"367.480469\" xlink:href=\"#DejaVuSans-109\"/>\n       <use x=\"464.892578\" xlink:href=\"#DejaVuSans-111\"/>\n       <use x=\"526.074219\" xlink:href=\"#DejaVuSans-111\"/>\n       <use x=\"587.255859\" xlink:href=\"#DejaVuSans-116\"/>\n       <use x=\"626.464844\" xlink:href=\"#DejaVuSans-104\"/>\n       <use x=\"689.84375\" xlink:href=\"#DejaVuSans-110\"/>\n       <use x=\"753.222656\" xlink:href=\"#DejaVuSans-101\"/>\n       <use x=\"814.746094\" xlink:href=\"#DejaVuSans-115\"/>\n       <use x=\"866.845703\" xlink:href=\"#DejaVuSans-115\"/>\n      </g>\n     </g>\n    </g>\n    <g id=\"ytick_23\">\n     <g id=\"line2d_53\">\n      <path clip-path=\"url(#p054bf86f1e)\" d=\"M 146.479688 115.92 \nL 369.679688 115.92 \n\" style=\"fill:none;stroke:#b0b0b0;stroke-linecap:square;stroke-width:0.8;\"/>\n     </g>\n     <g id=\"line2d_54\">\n      <g>\n       <use style=\"stroke:#000000;stroke-width:0.8;\" x=\"146.479688\" xlink:href=\"#ma8ac036191\" y=\"115.92\"/>\n      </g>\n     </g>\n     <g id=\"text_27\">\n      <!-- compactness error -->\n      <g transform=\"translate(45.934375 119.719219)scale(0.1 -0.1)\">\n       <use xlink:href=\"#DejaVuSans-99\"/>\n       <use x=\"54.980469\" xlink:href=\"#DejaVuSans-111\"/>\n       <use x=\"116.162109\" xlink:href=\"#DejaVuSans-109\"/>\n       <use x=\"213.574219\" xlink:href=\"#DejaVuSans-112\"/>\n       <use x=\"277.050781\" xlink:href=\"#DejaVuSans-97\"/>\n       <use x=\"338.330078\" xlink:href=\"#DejaVuSans-99\"/>\n       <use x=\"393.310547\" xlink:href=\"#DejaVuSans-116\"/>\n       <use x=\"432.519531\" xlink:href=\"#DejaVuSans-110\"/>\n       <use x=\"495.898438\" xlink:href=\"#DejaVuSans-101\"/>\n       <use x=\"557.421875\" xlink:href=\"#DejaVuSans-115\"/>\n       <use x=\"609.521484\" xlink:href=\"#DejaVuSans-115\"/>\n       <use x=\"661.621094\" xlink:href=\"#DejaVuSans-32\"/>\n       <use x=\"693.408203\" xlink:href=\"#DejaVuSans-101\"/>\n       <use x=\"754.931641\" xlink:href=\"#DejaVuSans-114\"/>\n       <use x=\"794.294922\" xlink:href=\"#DejaVuSans-114\"/>\n       <use x=\"833.158203\" xlink:href=\"#DejaVuSans-111\"/>\n       <use x=\"894.339844\" xlink:href=\"#DejaVuSans-114\"/>\n      </g>\n     </g>\n    </g>\n    <g id=\"ytick_24\">\n     <g id=\"line2d_55\">\n      <path clip-path=\"url(#p054bf86f1e)\" d=\"M 146.479688 101.424 \nL 369.679688 101.424 \n\" style=\"fill:none;stroke:#b0b0b0;stroke-linecap:square;stroke-width:0.8;\"/>\n     </g>\n     <g id=\"line2d_56\">\n      <g>\n       <use style=\"stroke:#000000;stroke-width:0.8;\" x=\"146.479688\" xlink:href=\"#ma8ac036191\" y=\"101.424\"/>\n      </g>\n     </g>\n     <g id=\"text_28\">\n      <!-- worst fractal dimension -->\n      <g transform=\"translate(21.7 105.223219)scale(0.1 -0.1)\">\n       <use xlink:href=\"#DejaVuSans-119\"/>\n       <use x=\"81.787109\" xlink:href=\"#DejaVuSans-111\"/>\n       <use x=\"142.96875\" xlink:href=\"#DejaVuSans-114\"/>\n       <use x=\"184.082031\" xlink:href=\"#DejaVuSans-115\"/>\n       <use x=\"236.181641\" xlink:href=\"#DejaVuSans-116\"/>\n       <use x=\"275.390625\" xlink:href=\"#DejaVuSans-32\"/>\n       <use x=\"307.177734\" xlink:href=\"#DejaVuSans-102\"/>\n       <use x=\"342.382812\" xlink:href=\"#DejaVuSans-114\"/>\n       <use x=\"383.496094\" xlink:href=\"#DejaVuSans-97\"/>\n       <use x=\"444.775391\" xlink:href=\"#DejaVuSans-99\"/>\n       <use x=\"499.755859\" xlink:href=\"#DejaVuSans-116\"/>\n       <use x=\"538.964844\" xlink:href=\"#DejaVuSans-97\"/>\n       <use x=\"600.244141\" xlink:href=\"#DejaVuSans-108\"/>\n       <use x=\"628.027344\" xlink:href=\"#DejaVuSans-32\"/>\n       <use x=\"659.814453\" xlink:href=\"#DejaVuSans-100\"/>\n       <use x=\"723.291016\" xlink:href=\"#DejaVuSans-105\"/>\n       <use x=\"751.074219\" xlink:href=\"#DejaVuSans-109\"/>\n       <use x=\"848.486328\" xlink:href=\"#DejaVuSans-101\"/>\n       <use x=\"910.009766\" xlink:href=\"#DejaVuSans-110\"/>\n       <use x=\"973.388672\" xlink:href=\"#DejaVuSans-115\"/>\n       <use x=\"1025.488281\" xlink:href=\"#DejaVuSans-105\"/>\n       <use x=\"1053.271484\" xlink:href=\"#DejaVuSans-111\"/>\n       <use x=\"1114.453125\" xlink:href=\"#DejaVuSans-110\"/>\n      </g>\n     </g>\n    </g>\n    <g id=\"ytick_25\">\n     <g id=\"line2d_57\">\n      <path clip-path=\"url(#p054bf86f1e)\" d=\"M 146.479688 86.928 \nL 369.679688 86.928 \n\" style=\"fill:none;stroke:#b0b0b0;stroke-linecap:square;stroke-width:0.8;\"/>\n     </g>\n     <g id=\"line2d_58\">\n      <g>\n       <use style=\"stroke:#000000;stroke-width:0.8;\" x=\"146.479688\" xlink:href=\"#ma8ac036191\" y=\"86.928\"/>\n      </g>\n     </g>\n     <g id=\"text_29\">\n      <!-- mean concave points -->\n      <g transform=\"translate(32.398438 90.727219)scale(0.1 -0.1)\">\n       <use xlink:href=\"#DejaVuSans-109\"/>\n       <use x=\"97.412109\" xlink:href=\"#DejaVuSans-101\"/>\n       <use x=\"158.935547\" xlink:href=\"#DejaVuSans-97\"/>\n       <use x=\"220.214844\" xlink:href=\"#DejaVuSans-110\"/>\n       <use x=\"283.59375\" xlink:href=\"#DejaVuSans-32\"/>\n       <use x=\"315.380859\" xlink:href=\"#DejaVuSans-99\"/>\n       <use x=\"370.361328\" xlink:href=\"#DejaVuSans-111\"/>\n       <use x=\"431.542969\" xlink:href=\"#DejaVuSans-110\"/>\n       <use x=\"494.921875\" xlink:href=\"#DejaVuSans-99\"/>\n       <use x=\"549.902344\" xlink:href=\"#DejaVuSans-97\"/>\n       <use x=\"611.181641\" xlink:href=\"#DejaVuSans-118\"/>\n       <use x=\"670.361328\" xlink:href=\"#DejaVuSans-101\"/>\n       <use x=\"731.884766\" xlink:href=\"#DejaVuSans-32\"/>\n       <use x=\"763.671875\" xlink:href=\"#DejaVuSans-112\"/>\n       <use x=\"827.148438\" xlink:href=\"#DejaVuSans-111\"/>\n       <use x=\"888.330078\" xlink:href=\"#DejaVuSans-105\"/>\n       <use x=\"916.113281\" xlink:href=\"#DejaVuSans-110\"/>\n       <use x=\"979.492188\" xlink:href=\"#DejaVuSans-116\"/>\n       <use x=\"1018.701172\" xlink:href=\"#DejaVuSans-115\"/>\n      </g>\n     </g>\n    </g>\n    <g id=\"ytick_26\">\n     <g id=\"line2d_59\">\n      <path clip-path=\"url(#p054bf86f1e)\" d=\"M 146.479688 72.432 \nL 369.679688 72.432 \n\" style=\"fill:none;stroke:#b0b0b0;stroke-linecap:square;stroke-width:0.8;\"/>\n     </g>\n     <g id=\"line2d_60\">\n      <g>\n       <use style=\"stroke:#000000;stroke-width:0.8;\" x=\"146.479688\" xlink:href=\"#ma8ac036191\" y=\"72.432\"/>\n      </g>\n     </g>\n     <g id=\"text_30\">\n      <!-- worst texture -->\n      <g transform=\"translate(72.65 76.231219)scale(0.1 -0.1)\">\n       <use xlink:href=\"#DejaVuSans-119\"/>\n       <use x=\"81.787109\" xlink:href=\"#DejaVuSans-111\"/>\n       <use x=\"142.96875\" xlink:href=\"#DejaVuSans-114\"/>\n       <use x=\"184.082031\" xlink:href=\"#DejaVuSans-115\"/>\n       <use x=\"236.181641\" xlink:href=\"#DejaVuSans-116\"/>\n       <use x=\"275.390625\" xlink:href=\"#DejaVuSans-32\"/>\n       <use x=\"307.177734\" xlink:href=\"#DejaVuSans-116\"/>\n       <use x=\"346.386719\" xlink:href=\"#DejaVuSans-101\"/>\n       <use x=\"406.160156\" xlink:href=\"#DejaVuSans-120\"/>\n       <use x=\"465.339844\" xlink:href=\"#DejaVuSans-116\"/>\n       <use x=\"504.548828\" xlink:href=\"#DejaVuSans-117\"/>\n       <use x=\"567.927734\" xlink:href=\"#DejaVuSans-114\"/>\n       <use x=\"606.791016\" xlink:href=\"#DejaVuSans-101\"/>\n      </g>\n     </g>\n    </g>\n    <g id=\"ytick_27\">\n     <g id=\"line2d_61\">\n      <path clip-path=\"url(#p054bf86f1e)\" d=\"M 146.479688 57.936 \nL 369.679688 57.936 \n\" style=\"fill:none;stroke:#b0b0b0;stroke-linecap:square;stroke-width:0.8;\"/>\n     </g>\n     <g id=\"line2d_62\">\n      <g>\n       <use style=\"stroke:#000000;stroke-width:0.8;\" x=\"146.479688\" xlink:href=\"#ma8ac036191\" y=\"57.936\"/>\n      </g>\n     </g>\n     <g id=\"text_31\">\n      <!-- worst concavity -->\n      <g transform=\"translate(60.646875 61.735219)scale(0.1 -0.1)\">\n       <use xlink:href=\"#DejaVuSans-119\"/>\n       <use x=\"81.787109\" xlink:href=\"#DejaVuSans-111\"/>\n       <use x=\"142.96875\" xlink:href=\"#DejaVuSans-114\"/>\n       <use x=\"184.082031\" xlink:href=\"#DejaVuSans-115\"/>\n       <use x=\"236.181641\" xlink:href=\"#DejaVuSans-116\"/>\n       <use x=\"275.390625\" xlink:href=\"#DejaVuSans-32\"/>\n       <use x=\"307.177734\" xlink:href=\"#DejaVuSans-99\"/>\n       <use x=\"362.158203\" xlink:href=\"#DejaVuSans-111\"/>\n       <use x=\"423.339844\" xlink:href=\"#DejaVuSans-110\"/>\n       <use x=\"486.71875\" xlink:href=\"#DejaVuSans-99\"/>\n       <use x=\"541.699219\" xlink:href=\"#DejaVuSans-97\"/>\n       <use x=\"602.978516\" xlink:href=\"#DejaVuSans-118\"/>\n       <use x=\"662.158203\" xlink:href=\"#DejaVuSans-105\"/>\n       <use x=\"689.941406\" xlink:href=\"#DejaVuSans-116\"/>\n       <use x=\"729.150391\" xlink:href=\"#DejaVuSans-121\"/>\n      </g>\n     </g>\n    </g>\n    <g id=\"ytick_28\">\n     <g id=\"line2d_63\">\n      <path clip-path=\"url(#p054bf86f1e)\" d=\"M 146.479688 43.44 \nL 369.679688 43.44 \n\" style=\"fill:none;stroke:#b0b0b0;stroke-linecap:square;stroke-width:0.8;\"/>\n     </g>\n     <g id=\"line2d_64\">\n      <g>\n       <use style=\"stroke:#000000;stroke-width:0.8;\" x=\"146.479688\" xlink:href=\"#ma8ac036191\" y=\"43.44\"/>\n      </g>\n     </g>\n     <g id=\"text_32\">\n      <!-- worst perimeter -->\n      <g transform=\"translate(59.295313 47.239219)scale(0.1 -0.1)\">\n       <use xlink:href=\"#DejaVuSans-119\"/>\n       <use x=\"81.787109\" xlink:href=\"#DejaVuSans-111\"/>\n       <use x=\"142.96875\" xlink:href=\"#DejaVuSans-114\"/>\n       <use x=\"184.082031\" xlink:href=\"#DejaVuSans-115\"/>\n       <use x=\"236.181641\" xlink:href=\"#DejaVuSans-116\"/>\n       <use x=\"275.390625\" xlink:href=\"#DejaVuSans-32\"/>\n       <use x=\"307.177734\" xlink:href=\"#DejaVuSans-112\"/>\n       <use x=\"370.654297\" xlink:href=\"#DejaVuSans-101\"/>\n       <use x=\"432.177734\" xlink:href=\"#DejaVuSans-114\"/>\n       <use x=\"473.291016\" xlink:href=\"#DejaVuSans-105\"/>\n       <use x=\"501.074219\" xlink:href=\"#DejaVuSans-109\"/>\n       <use x=\"598.486328\" xlink:href=\"#DejaVuSans-101\"/>\n       <use x=\"660.009766\" xlink:href=\"#DejaVuSans-116\"/>\n       <use x=\"699.21875\" xlink:href=\"#DejaVuSans-101\"/>\n       <use x=\"760.742188\" xlink:href=\"#DejaVuSans-114\"/>\n      </g>\n     </g>\n    </g>\n    <g id=\"ytick_29\">\n     <g id=\"line2d_65\">\n      <path clip-path=\"url(#p054bf86f1e)\" d=\"M 146.479688 28.944 \nL 369.679688 28.944 \n\" style=\"fill:none;stroke:#b0b0b0;stroke-linecap:square;stroke-width:0.8;\"/>\n     </g>\n     <g id=\"line2d_66\">\n      <g>\n       <use style=\"stroke:#000000;stroke-width:0.8;\" x=\"146.479688\" xlink:href=\"#ma8ac036191\" y=\"28.944\"/>\n      </g>\n     </g>\n     <g id=\"text_33\">\n      <!-- worst radius -->\n      <g transform=\"translate(77.851562 32.743219)scale(0.1 -0.1)\">\n       <use xlink:href=\"#DejaVuSans-119\"/>\n       <use x=\"81.787109\" xlink:href=\"#DejaVuSans-111\"/>\n       <use x=\"142.96875\" xlink:href=\"#DejaVuSans-114\"/>\n       <use x=\"184.082031\" xlink:href=\"#DejaVuSans-115\"/>\n       <use x=\"236.181641\" xlink:href=\"#DejaVuSans-116\"/>\n       <use x=\"275.390625\" xlink:href=\"#DejaVuSans-32\"/>\n       <use x=\"307.177734\" xlink:href=\"#DejaVuSans-114\"/>\n       <use x=\"348.291016\" xlink:href=\"#DejaVuSans-97\"/>\n       <use x=\"409.570312\" xlink:href=\"#DejaVuSans-100\"/>\n       <use x=\"473.046875\" xlink:href=\"#DejaVuSans-105\"/>\n       <use x=\"500.830078\" xlink:href=\"#DejaVuSans-117\"/>\n       <use x=\"564.208984\" xlink:href=\"#DejaVuSans-115\"/>\n      </g>\n     </g>\n    </g>\n    <g id=\"ytick_30\">\n     <g id=\"line2d_67\">\n      <path clip-path=\"url(#p054bf86f1e)\" d=\"M 146.479688 14.448 \nL 369.679688 14.448 \n\" style=\"fill:none;stroke:#b0b0b0;stroke-linecap:square;stroke-width:0.8;\"/>\n     </g>\n     <g id=\"line2d_68\">\n      <g>\n       <use style=\"stroke:#000000;stroke-width:0.8;\" x=\"146.479688\" xlink:href=\"#ma8ac036191\" y=\"14.448\"/>\n      </g>\n     </g>\n     <g id=\"text_34\">\n      <!-- worst area -->\n      <g transform=\"translate(86.46875 18.247219)scale(0.1 -0.1)\">\n       <use xlink:href=\"#DejaVuSans-119\"/>\n       <use x=\"81.787109\" xlink:href=\"#DejaVuSans-111\"/>\n       <use x=\"142.96875\" xlink:href=\"#DejaVuSans-114\"/>\n       <use x=\"184.082031\" xlink:href=\"#DejaVuSans-115\"/>\n       <use x=\"236.181641\" xlink:href=\"#DejaVuSans-116\"/>\n       <use x=\"275.390625\" xlink:href=\"#DejaVuSans-32\"/>\n       <use x=\"307.177734\" xlink:href=\"#DejaVuSans-97\"/>\n       <use x=\"368.457031\" xlink:href=\"#DejaVuSans-114\"/>\n       <use x=\"407.320312\" xlink:href=\"#DejaVuSans-101\"/>\n       <use x=\"468.84375\" xlink:href=\"#DejaVuSans-97\"/>\n      </g>\n     </g>\n    </g>\n    <g id=\"text_35\">\n     <!-- feature -->\n     <g transform=\"translate(14.798438 242.689219)rotate(-90)scale(0.1 -0.1)\">\n      <use xlink:href=\"#DejaVuSans-102\"/>\n      <use x=\"35.205078\" xlink:href=\"#DejaVuSans-101\"/>\n      <use x=\"96.728516\" xlink:href=\"#DejaVuSans-97\"/>\n      <use x=\"158.007812\" xlink:href=\"#DejaVuSans-116\"/>\n      <use x=\"197.216797\" xlink:href=\"#DejaVuSans-117\"/>\n      <use x=\"260.595703\" xlink:href=\"#DejaVuSans-114\"/>\n      <use x=\"299.458984\" xlink:href=\"#DejaVuSans-101\"/>\n     </g>\n    </g>\n   </g>\n   <g id=\"LineCollection_1\">\n    <path clip-path=\"url(#p054bf86f1e)\" d=\"M 156.625142 434.832 \nL 206.960702 434.832 \n\" style=\"fill:none;stroke:#000000;stroke-width:1.5;\"/>\n    <path clip-path=\"url(#p054bf86f1e)\" d=\"M 188.440621 420.336 \nL 215.031414 420.336 \n\" style=\"fill:none;stroke:#000000;stroke-width:1.5;\"/>\n    <path clip-path=\"url(#p054bf86f1e)\" d=\"M 193.003221 405.84 \nL 230.411909 405.84 \n\" style=\"fill:none;stroke:#000000;stroke-width:1.5;\"/>\n    <path clip-path=\"url(#p054bf86f1e)\" d=\"M 178.548293 391.344 \nL 255.946334 391.344 \n\" style=\"fill:none;stroke:#000000;stroke-width:1.5;\"/>\n    <path clip-path=\"url(#p054bf86f1e)\" d=\"M 211.412297 376.848 \nL 240.809526 376.848 \n\" style=\"fill:none;stroke:#000000;stroke-width:1.5;\"/>\n    <path clip-path=\"url(#p054bf86f1e)\" d=\"M 217.819775 362.352 \nL 234.402048 362.352 \n\" style=\"fill:none;stroke:#000000;stroke-width:1.5;\"/>\n    <path clip-path=\"url(#p054bf86f1e)\" d=\"M 213.694611 347.856 \nL 240.743111 347.856 \n\" style=\"fill:none;stroke:#000000;stroke-width:1.5;\"/>\n    <path clip-path=\"url(#p054bf86f1e)\" d=\"M 221.252369 333.36 \nL 233.185353 333.36 \n\" style=\"fill:none;stroke:#000000;stroke-width:1.5;\"/>\n    <path clip-path=\"url(#p054bf86f1e)\" d=\"M 228.326811 318.864 \nL 228.326811 318.864 \n\" style=\"fill:none;stroke:#000000;stroke-width:1.5;\"/>\n    <path clip-path=\"url(#p054bf86f1e)\" d=\"M 228.326811 304.368 \nL 228.326811 304.368 \n\" style=\"fill:none;stroke:#000000;stroke-width:1.5;\"/>\n    <path clip-path=\"url(#p054bf86f1e)\" d=\"M 228.326811 289.872 \nL 228.326811 289.872 \n\" style=\"fill:none;stroke:#000000;stroke-width:1.5;\"/>\n    <path clip-path=\"url(#p054bf86f1e)\" d=\"M 228.326811 275.376 \nL 228.326811 275.376 \n\" style=\"fill:none;stroke:#000000;stroke-width:1.5;\"/>\n    <path clip-path=\"url(#p054bf86f1e)\" d=\"M 228.326811 260.88 \nL 228.326811 260.88 \n\" style=\"fill:none;stroke:#000000;stroke-width:1.5;\"/>\n    <path clip-path=\"url(#p054bf86f1e)\" d=\"M 228.326811 246.384 \nL 228.326811 246.384 \n\" style=\"fill:none;stroke:#000000;stroke-width:1.5;\"/>\n    <path clip-path=\"url(#p054bf86f1e)\" d=\"M 228.326811 231.888 \nL 228.326811 231.888 \n\" style=\"fill:none;stroke:#000000;stroke-width:1.5;\"/>\n    <path clip-path=\"url(#p054bf86f1e)\" d=\"M 228.326811 217.392 \nL 228.326811 217.392 \n\" style=\"fill:none;stroke:#000000;stroke-width:1.5;\"/>\n    <path clip-path=\"url(#p054bf86f1e)\" d=\"M 228.326811 202.896 \nL 228.326811 202.896 \n\" style=\"fill:none;stroke:#000000;stroke-width:1.5;\"/>\n    <path clip-path=\"url(#p054bf86f1e)\" d=\"M 228.326811 188.4 \nL 228.326811 188.4 \n\" style=\"fill:none;stroke:#000000;stroke-width:1.5;\"/>\n    <path clip-path=\"url(#p054bf86f1e)\" d=\"M 228.326811 173.904 \nL 228.326811 173.904 \n\" style=\"fill:none;stroke:#000000;stroke-width:1.5;\"/>\n    <path clip-path=\"url(#p054bf86f1e)\" d=\"M 228.326811 159.408 \nL 228.326811 159.408 \n\" style=\"fill:none;stroke:#000000;stroke-width:1.5;\"/>\n    <path clip-path=\"url(#p054bf86f1e)\" d=\"M 228.326811 144.912 \nL 228.326811 144.912 \n\" style=\"fill:none;stroke:#000000;stroke-width:1.5;\"/>\n    <path clip-path=\"url(#p054bf86f1e)\" d=\"M 228.326811 130.416 \nL 228.326811 130.416 \n\" style=\"fill:none;stroke:#000000;stroke-width:1.5;\"/>\n    <path clip-path=\"url(#p054bf86f1e)\" d=\"M 228.326811 115.92 \nL 228.326811 115.92 \n\" style=\"fill:none;stroke:#000000;stroke-width:1.5;\"/>\n    <path clip-path=\"url(#p054bf86f1e)\" d=\"M 228.326811 101.424 \nL 228.326811 101.424 \n\" style=\"fill:none;stroke:#000000;stroke-width:1.5;\"/>\n    <path clip-path=\"url(#p054bf86f1e)\" d=\"M 188.386606 86.928 \nL 279.346513 86.928 \n\" style=\"fill:none;stroke:#000000;stroke-width:1.5;\"/>\n    <path clip-path=\"url(#p054bf86f1e)\" d=\"M 218.128521 72.432 \nL 256.252297 72.432 \n\" style=\"fill:none;stroke:#000000;stroke-width:1.5;\"/>\n    <path clip-path=\"url(#p054bf86f1e)\" d=\"M 218.82238 57.936 \nL 257.774338 57.936 \n\" style=\"fill:none;stroke:#000000;stroke-width:1.5;\"/>\n    <path clip-path=\"url(#p054bf86f1e)\" d=\"M 200.787883 43.44 \nL 331.206321 43.44 \n\" style=\"fill:none;stroke:#000000;stroke-width:1.5;\"/>\n    <path clip-path=\"url(#p054bf86f1e)\" d=\"M 251.427977 28.944 \nL 318.236519 28.944 \n\" style=\"fill:none;stroke:#000000;stroke-width:1.5;\"/>\n    <path clip-path=\"url(#p054bf86f1e)\" d=\"M 254.448252 14.448 \nL 359.534233 14.448 \n\" style=\"fill:none;stroke:#000000;stroke-width:1.5;\"/>\n   </g>\n   <g id=\"patch_33\">\n    <path d=\"M 146.479688 442.08 \nL 146.479688 7.2 \n\" style=\"fill:none;stroke:#000000;stroke-linecap:square;stroke-linejoin:miter;stroke-width:0.8;\"/>\n   </g>\n   <g id=\"patch_34\">\n    <path d=\"M 369.679688 442.08 \nL 369.679688 7.2 \n\" style=\"fill:none;stroke:#000000;stroke-linecap:square;stroke-linejoin:miter;stroke-width:0.8;\"/>\n   </g>\n   <g id=\"patch_35\">\n    <path d=\"M 146.479688 442.08 \nL 369.679688 442.08 \n\" style=\"fill:none;stroke:#000000;stroke-linecap:square;stroke-linejoin:miter;stroke-width:0.8;\"/>\n   </g>\n   <g id=\"patch_36\">\n    <path d=\"M 146.479688 7.2 \nL 369.679688 7.2 \n\" style=\"fill:none;stroke:#000000;stroke-linecap:square;stroke-linejoin:miter;stroke-width:0.8;\"/>\n   </g>\n  </g>\n </g>\n <defs>\n  <clipPath id=\"p054bf86f1e\">\n   <rect height=\"434.88\" width=\"223.2\" x=\"146.479688\" y=\"7.2\"/>\n  </clipPath>\n </defs>\n</svg>\n",
      "image/png": "[encoded data removed]"
     },
     "metadata": {
      "needs_background": "light"
     }
    }
   ],
   "source": [
    "pfimp_score[\"value\"].plot.barh(figsize=(4, 8), xerr=pfimp_std)\n",
    "plt.grid()"
   ]
  },
  {
   "cell_type": "markdown",
   "metadata": {},
   "source": [
    "Explain:\n",
    "\n",
    "- \"Làm sai giá trị\" / mess up / permute / break `worst area` decrease accuracy score by ~0.03 on validation data. But error bar is **high**! Expected big/smal change in accuracy.\n",
    "\n",
    "- Break feature `mean concavity` increases score on validation! But error is high too!"
   ]
  },
  {
   "cell_type": "code",
   "execution_count": 16,
   "metadata": {},
   "outputs": [],
   "source": [
    "X_val_permuted = X_val.copy()\n",
    "X_val_permuted[\"worst area\"] = np.random.randn(len(X_val))"
   ]
  },
  {
   "cell_type": "code",
   "execution_count": 17,
   "metadata": {},
   "outputs": [
    {
     "output_type": "execute_result",
     "data": {
      "text/plain": [
       "     mean radius  mean texture  mean perimeter  mean area  mean smoothness  \\\n",
       "512        13.40         20.52           88.64      556.7          0.11060   \n",
       "457        13.21         25.25           84.10      537.9          0.08791   \n",
       "439        14.02         15.66           89.59      606.5          0.07966   \n",
       "298        14.26         18.17           91.22      633.1          0.06576   \n",
       "37         13.03         18.42           82.61      523.8          0.08983   \n",
       "\n",
       "     mean compactness  mean concavity  mean concave points  mean symmetry  \\\n",
       "512           0.14690         0.14450              0.08172         0.2116   \n",
       "457           0.05205         0.02772              0.02068         0.1619   \n",
       "439           0.05581         0.02087              0.02652         0.1589   \n",
       "298           0.05220         0.02475              0.01374         0.1635   \n",
       "37            0.03766         0.02562              0.02923         0.1467   \n",
       "\n",
       "     mean fractal dimension  ...  worst radius  worst texture  \\\n",
       "512                 0.07325  ...         16.41          29.66   \n",
       "457                 0.05584  ...         14.35          34.23   \n",
       "439                 0.05586  ...         14.91          19.31   \n",
       "298                 0.05586  ...         16.22          25.26   \n",
       "37                  0.05863  ...         13.30          22.81   \n",
       "\n",
       "     worst perimeter  worst area  worst smoothness  worst compactness  \\\n",
       "512           113.30       844.4           0.15740            0.38560   \n",
       "457            91.29       632.9           0.12890            0.10630   \n",
       "439            96.53       688.9           0.10340            0.10170   \n",
       "298           105.80       819.7           0.09445            0.21670   \n",
       "37             84.46       545.9           0.09701            0.04619   \n",
       "\n",
       "     worst concavity  worst concave points  worst symmetry  \\\n",
       "512          0.51060               0.20510          0.3585   \n",
       "457          0.13900               0.06005          0.2444   \n",
       "439          0.06260               0.08216          0.2136   \n",
       "298          0.15650               0.07530          0.2636   \n",
       "37           0.04833               0.05013          0.1987   \n",
       "\n",
       "     worst fractal dimension  \n",
       "512                  0.11090  \n",
       "457                  0.06788  \n",
       "439                  0.06710  \n",
       "298                  0.07676  \n",
       "37                   0.06169  \n",
       "\n",
       "[5 rows x 30 columns]"
      ],
      "text/html": "<div>\n<style scoped>\n    .dataframe tbody tr th:only-of-type {\n        vertical-align: middle;\n    }\n\n    .dataframe tbody tr th {\n        vertical-align: top;\n    }\n\n    .dataframe thead th {\n        text-align: right;\n    }\n</style>\n<table border=\"1\" class=\"dataframe\">\n  <thead>\n    <tr style=\"text-align: right;\">\n      <th></th>\n      <th>mean radius</th>\n      <th>mean texture</th>\n      <th>mean perimeter</th>\n      <th>mean area</th>\n      <th>mean smoothness</th>\n      <th>mean compactness</th>\n      <th>mean concavity</th>\n      <th>mean concave points</th>\n      <th>mean symmetry</th>\n      <th>mean fractal dimension</th>\n      <th>...</th>\n      <th>worst radius</th>\n      <th>worst texture</th>\n      <th>worst perimeter</th>\n      <th>worst area</th>\n      <th>worst smoothness</th>\n      <th>worst compactness</th>\n      <th>worst concavity</th>\n      <th>worst concave points</th>\n      <th>worst symmetry</th>\n      <th>worst fractal dimension</th>\n    </tr>\n  </thead>\n  <tbody>\n    <tr>\n      <th>512</th>\n      <td>13.40</td>\n      <td>20.52</td>\n      <td>88.64</td>\n      <td>556.7</td>\n      <td>0.11060</td>\n      <td>0.14690</td>\n      <td>0.14450</td>\n      <td>0.08172</td>\n      <td>0.2116</td>\n      <td>0.07325</td>\n      <td>...</td>\n      <td>16.41</td>\n      <td>29.66</td>\n      <td>113.30</td>\n      <td>844.4</td>\n      <td>0.15740</td>\n      <td>0.38560</td>\n      <td>0.51060</td>\n      <td>0.20510</td>\n      <td>0.3585</td>\n      <td>0.11090</td>\n    </tr>\n    <tr>\n      <th>457</th>\n      <td>13.21</td>\n      <td>25.25</td>\n      <td>84.10</td>\n      <td>537.9</td>\n      <td>0.08791</td>\n      <td>0.05205</td>\n      <td>0.02772</td>\n      <td>0.02068</td>\n      <td>0.1619</td>\n      <td>0.05584</td>\n      <td>...</td>\n      <td>14.35</td>\n      <td>34.23</td>\n      <td>91.29</td>\n      <td>632.9</td>\n      <td>0.12890</td>\n      <td>0.10630</td>\n      <td>0.13900</td>\n      <td>0.06005</td>\n      <td>0.2444</td>\n      <td>0.06788</td>\n    </tr>\n    <tr>\n      <th>439</th>\n      <td>14.02</td>\n      <td>15.66</td>\n      <td>89.59</td>\n      <td>606.5</td>\n      <td>0.07966</td>\n      <td>0.05581</td>\n      <td>0.02087</td>\n      <td>0.02652</td>\n      <td>0.1589</td>\n      <td>0.05586</td>\n      <td>...</td>\n      <td>14.91</td>\n      <td>19.31</td>\n      <td>96.53</td>\n      <td>688.9</td>\n      <td>0.10340</td>\n      <td>0.10170</td>\n      <td>0.06260</td>\n      <td>0.08216</td>\n      <td>0.2136</td>\n      <td>0.06710</td>\n    </tr>\n    <tr>\n      <th>298</th>\n      <td>14.26</td>\n      <td>18.17</td>\n      <td>91.22</td>\n      <td>633.1</td>\n      <td>0.06576</td>\n      <td>0.05220</td>\n      <td>0.02475</td>\n      <td>0.01374</td>\n      <td>0.1635</td>\n      <td>0.05586</td>\n      <td>...</td>\n      <td>16.22</td>\n      <td>25.26</td>\n      <td>105.80</td>\n      <td>819.7</td>\n      <td>0.09445</td>\n      <td>0.21670</td>\n      <td>0.15650</td>\n      <td>0.07530</td>\n      <td>0.2636</td>\n      <td>0.07676</td>\n    </tr>\n    <tr>\n      <th>37</th>\n      <td>13.03</td>\n      <td>18.42</td>\n      <td>82.61</td>\n      <td>523.8</td>\n      <td>0.08983</td>\n      <td>0.03766</td>\n      <td>0.02562</td>\n      <td>0.02923</td>\n      <td>0.1467</td>\n      <td>0.05863</td>\n      <td>...</td>\n      <td>13.30</td>\n      <td>22.81</td>\n      <td>84.46</td>\n      <td>545.9</td>\n      <td>0.09701</td>\n      <td>0.04619</td>\n      <td>0.04833</td>\n      <td>0.05013</td>\n      <td>0.1987</td>\n      <td>0.06169</td>\n    </tr>\n  </tbody>\n</table>\n<p>5 rows × 30 columns</p>\n</div>"
     },
     "metadata": {},
     "execution_count": 17
    }
   ],
   "source": [
    "X_val.head()"
   ]
  },
  {
   "cell_type": "code",
   "execution_count": 18,
   "metadata": {},
   "outputs": [
    {
     "output_type": "execute_result",
     "data": {
      "text/plain": [
       "     mean radius  mean texture  mean perimeter  mean area  mean smoothness  \\\n",
       "512        13.40         20.52           88.64      556.7          0.11060   \n",
       "457        13.21         25.25           84.10      537.9          0.08791   \n",
       "439        14.02         15.66           89.59      606.5          0.07966   \n",
       "298        14.26         18.17           91.22      633.1          0.06576   \n",
       "37         13.03         18.42           82.61      523.8          0.08983   \n",
       "\n",
       "     mean compactness  mean concavity  mean concave points  mean symmetry  \\\n",
       "512           0.14690         0.14450              0.08172         0.2116   \n",
       "457           0.05205         0.02772              0.02068         0.1619   \n",
       "439           0.05581         0.02087              0.02652         0.1589   \n",
       "298           0.05220         0.02475              0.01374         0.1635   \n",
       "37            0.03766         0.02562              0.02923         0.1467   \n",
       "\n",
       "     mean fractal dimension  ...  worst radius  worst texture  \\\n",
       "512                 0.07325  ...         16.41          29.66   \n",
       "457                 0.05584  ...         14.35          34.23   \n",
       "439                 0.05586  ...         14.91          19.31   \n",
       "298                 0.05586  ...         16.22          25.26   \n",
       "37                  0.05863  ...         13.30          22.81   \n",
       "\n",
       "     worst perimeter  worst area  worst smoothness  worst compactness  \\\n",
       "512           113.30    1.369439           0.15740            0.38560   \n",
       "457            91.29   -1.109276           0.12890            0.10630   \n",
       "439            96.53    1.037282           0.10340            0.10170   \n",
       "298           105.80   -1.520334           0.09445            0.21670   \n",
       "37             84.46    0.890780           0.09701            0.04619   \n",
       "\n",
       "     worst concavity  worst concave points  worst symmetry  \\\n",
       "512          0.51060               0.20510          0.3585   \n",
       "457          0.13900               0.06005          0.2444   \n",
       "439          0.06260               0.08216          0.2136   \n",
       "298          0.15650               0.07530          0.2636   \n",
       "37           0.04833               0.05013          0.1987   \n",
       "\n",
       "     worst fractal dimension  \n",
       "512                  0.11090  \n",
       "457                  0.06788  \n",
       "439                  0.06710  \n",
       "298                  0.07676  \n",
       "37                   0.06169  \n",
       "\n",
       "[5 rows x 30 columns]"
      ],
      "text/html": "<div>\n<style scoped>\n    .dataframe tbody tr th:only-of-type {\n        vertical-align: middle;\n    }\n\n    .dataframe tbody tr th {\n        vertical-align: top;\n    }\n\n    .dataframe thead th {\n        text-align: right;\n    }\n</style>\n<table border=\"1\" class=\"dataframe\">\n  <thead>\n    <tr style=\"text-align: right;\">\n      <th></th>\n      <th>mean radius</th>\n      <th>mean texture</th>\n      <th>mean perimeter</th>\n      <th>mean area</th>\n      <th>mean smoothness</th>\n      <th>mean compactness</th>\n      <th>mean concavity</th>\n      <th>mean concave points</th>\n      <th>mean symmetry</th>\n      <th>mean fractal dimension</th>\n      <th>...</th>\n      <th>worst radius</th>\n      <th>worst texture</th>\n      <th>worst perimeter</th>\n      <th>worst area</th>\n      <th>worst smoothness</th>\n      <th>worst compactness</th>\n      <th>worst concavity</th>\n      <th>worst concave points</th>\n      <th>worst symmetry</th>\n      <th>worst fractal dimension</th>\n    </tr>\n  </thead>\n  <tbody>\n    <tr>\n      <th>512</th>\n      <td>13.40</td>\n      <td>20.52</td>\n      <td>88.64</td>\n      <td>556.7</td>\n      <td>0.11060</td>\n      <td>0.14690</td>\n      <td>0.14450</td>\n      <td>0.08172</td>\n      <td>0.2116</td>\n      <td>0.07325</td>\n      <td>...</td>\n      <td>16.41</td>\n      <td>29.66</td>\n      <td>113.30</td>\n      <td>1.369439</td>\n      <td>0.15740</td>\n      <td>0.38560</td>\n      <td>0.51060</td>\n      <td>0.20510</td>\n      <td>0.3585</td>\n      <td>0.11090</td>\n    </tr>\n    <tr>\n      <th>457</th>\n      <td>13.21</td>\n      <td>25.25</td>\n      <td>84.10</td>\n      <td>537.9</td>\n      <td>0.08791</td>\n      <td>0.05205</td>\n      <td>0.02772</td>\n      <td>0.02068</td>\n      <td>0.1619</td>\n      <td>0.05584</td>\n      <td>...</td>\n      <td>14.35</td>\n      <td>34.23</td>\n      <td>91.29</td>\n      <td>-1.109276</td>\n      <td>0.12890</td>\n      <td>0.10630</td>\n      <td>0.13900</td>\n      <td>0.06005</td>\n      <td>0.2444</td>\n      <td>0.06788</td>\n    </tr>\n    <tr>\n      <th>439</th>\n      <td>14.02</td>\n      <td>15.66</td>\n      <td>89.59</td>\n      <td>606.5</td>\n      <td>0.07966</td>\n      <td>0.05581</td>\n      <td>0.02087</td>\n      <td>0.02652</td>\n      <td>0.1589</td>\n      <td>0.05586</td>\n      <td>...</td>\n      <td>14.91</td>\n      <td>19.31</td>\n      <td>96.53</td>\n      <td>1.037282</td>\n      <td>0.10340</td>\n      <td>0.10170</td>\n      <td>0.06260</td>\n      <td>0.08216</td>\n      <td>0.2136</td>\n      <td>0.06710</td>\n    </tr>\n    <tr>\n      <th>298</th>\n      <td>14.26</td>\n      <td>18.17</td>\n      <td>91.22</td>\n      <td>633.1</td>\n      <td>0.06576</td>\n      <td>0.05220</td>\n      <td>0.02475</td>\n      <td>0.01374</td>\n      <td>0.1635</td>\n      <td>0.05586</td>\n      <td>...</td>\n      <td>16.22</td>\n      <td>25.26</td>\n      <td>105.80</td>\n      <td>-1.520334</td>\n      <td>0.09445</td>\n      <td>0.21670</td>\n      <td>0.15650</td>\n      <td>0.07530</td>\n      <td>0.2636</td>\n      <td>0.07676</td>\n    </tr>\n    <tr>\n      <th>37</th>\n      <td>13.03</td>\n      <td>18.42</td>\n      <td>82.61</td>\n      <td>523.8</td>\n      <td>0.08983</td>\n      <td>0.03766</td>\n      <td>0.02562</td>\n      <td>0.02923</td>\n      <td>0.1467</td>\n      <td>0.05863</td>\n      <td>...</td>\n      <td>13.30</td>\n      <td>22.81</td>\n      <td>84.46</td>\n      <td>0.890780</td>\n      <td>0.09701</td>\n      <td>0.04619</td>\n      <td>0.04833</td>\n      <td>0.05013</td>\n      <td>0.1987</td>\n      <td>0.06169</td>\n    </tr>\n  </tbody>\n</table>\n<p>5 rows × 30 columns</p>\n</div>"
     },
     "metadata": {},
     "execution_count": 18
    }
   ],
   "source": [
    "X_val_permuted.head()"
   ]
  },
  {
   "cell_type": "code",
   "execution_count": 19,
   "metadata": {},
   "outputs": [
    {
     "output_type": "execute_result",
     "data": {
      "text/plain": [
       "0.9440559440559441"
      ]
     },
     "metadata": {},
     "execution_count": 19
    }
   ],
   "source": [
    "y_val_permuted_pred = model.predict(X_val_permuted)\n",
    "accuracy_score(y_val, y_val_permuted_pred)"
   ]
  },
  {
   "cell_type": "code",
   "execution_count": 22,
   "metadata": {},
   "outputs": [
    {
     "output_type": "execute_result",
     "data": {
      "text/plain": [
       "0.965034965034965"
      ]
     },
     "metadata": {},
     "execution_count": 22
    }
   ],
   "source": [
    "# Some random permutation will make better acc, some does not change acc\n",
    "# -> better remove this feature!\n",
    "X_val_permuted = X_val.copy()\n",
    "X_val_permuted[\"mean concavity\"] = np.random.randn(len(X_val))\n",
    "y_val_permuted_pred = model.predict(X_val_permuted)\n",
    "accuracy_score(y_val, y_val_permuted_pred)"
   ]
  },
  {
   "cell_type": "markdown",
   "metadata": {},
   "source": [
    "# For MultiClass Problem"
   ]
  },
  {
   "cell_type": "code",
   "execution_count": 19,
   "metadata": {},
   "outputs": [],
   "source": [
    "X, y = load_multiclass()"
   ]
  },
  {
   "cell_type": "code",
   "execution_count": 20,
   "metadata": {},
   "outputs": [
    {
     "data": {
      "text/plain": [
       "((178, 13), (178,))"
      ]
     },
     "execution_count": 20,
     "metadata": {},
     "output_type": "execute_result"
    }
   ],
   "source": [
    "X.shape, y.shape"
   ]
  },
  {
   "cell_type": "code",
   "execution_count": 21,
   "metadata": {},
   "outputs": [
    {
     "data": {
      "text/html": [
       "<div>\n",
       "<style scoped>\n",
       "    .dataframe tbody tr th:only-of-type {\n",
       "        vertical-align: middle;\n",
       "    }\n",
       "\n",
       "    .dataframe tbody tr th {\n",
       "        vertical-align: top;\n",
       "    }\n",
       "\n",
       "    .dataframe thead th {\n",
       "        text-align: right;\n",
       "    }\n",
       "</style>\n",
       "<table border=\"1\" class=\"dataframe\">\n",
       "  <thead>\n",
       "    <tr style=\"text-align: right;\">\n",
       "      <th></th>\n",
       "      <th>alcohol</th>\n",
       "      <th>malic_acid</th>\n",
       "      <th>ash</th>\n",
       "      <th>alcalinity_of_ash</th>\n",
       "      <th>magnesium</th>\n",
       "      <th>total_phenols</th>\n",
       "      <th>flavanoids</th>\n",
       "      <th>nonflavanoid_phenols</th>\n",
       "      <th>proanthocyanins</th>\n",
       "      <th>color_intensity</th>\n",
       "      <th>hue</th>\n",
       "      <th>od280/od315_of_diluted_wines</th>\n",
       "      <th>proline</th>\n",
       "    </tr>\n",
       "  </thead>\n",
       "  <tbody>\n",
       "    <tr>\n",
       "      <th>0</th>\n",
       "      <td>14.23</td>\n",
       "      <td>1.71</td>\n",
       "      <td>2.43</td>\n",
       "      <td>15.6</td>\n",
       "      <td>127.0</td>\n",
       "      <td>2.80</td>\n",
       "      <td>3.06</td>\n",
       "      <td>0.28</td>\n",
       "      <td>2.29</td>\n",
       "      <td>5.64</td>\n",
       "      <td>1.04</td>\n",
       "      <td>3.92</td>\n",
       "      <td>1065.0</td>\n",
       "    </tr>\n",
       "    <tr>\n",
       "      <th>1</th>\n",
       "      <td>13.20</td>\n",
       "      <td>1.78</td>\n",
       "      <td>2.14</td>\n",
       "      <td>11.2</td>\n",
       "      <td>100.0</td>\n",
       "      <td>2.65</td>\n",
       "      <td>2.76</td>\n",
       "      <td>0.26</td>\n",
       "      <td>1.28</td>\n",
       "      <td>4.38</td>\n",
       "      <td>1.05</td>\n",
       "      <td>3.40</td>\n",
       "      <td>1050.0</td>\n",
       "    </tr>\n",
       "    <tr>\n",
       "      <th>2</th>\n",
       "      <td>13.16</td>\n",
       "      <td>2.36</td>\n",
       "      <td>2.67</td>\n",
       "      <td>18.6</td>\n",
       "      <td>101.0</td>\n",
       "      <td>2.80</td>\n",
       "      <td>3.24</td>\n",
       "      <td>0.30</td>\n",
       "      <td>2.81</td>\n",
       "      <td>5.68</td>\n",
       "      <td>1.03</td>\n",
       "      <td>3.17</td>\n",
       "      <td>1185.0</td>\n",
       "    </tr>\n",
       "    <tr>\n",
       "      <th>3</th>\n",
       "      <td>14.37</td>\n",
       "      <td>1.95</td>\n",
       "      <td>2.50</td>\n",
       "      <td>16.8</td>\n",
       "      <td>113.0</td>\n",
       "      <td>3.85</td>\n",
       "      <td>3.49</td>\n",
       "      <td>0.24</td>\n",
       "      <td>2.18</td>\n",
       "      <td>7.80</td>\n",
       "      <td>0.86</td>\n",
       "      <td>3.45</td>\n",
       "      <td>1480.0</td>\n",
       "    </tr>\n",
       "    <tr>\n",
       "      <th>4</th>\n",
       "      <td>13.24</td>\n",
       "      <td>2.59</td>\n",
       "      <td>2.87</td>\n",
       "      <td>21.0</td>\n",
       "      <td>118.0</td>\n",
       "      <td>2.80</td>\n",
       "      <td>2.69</td>\n",
       "      <td>0.39</td>\n",
       "      <td>1.82</td>\n",
       "      <td>4.32</td>\n",
       "      <td>1.04</td>\n",
       "      <td>2.93</td>\n",
       "      <td>735.0</td>\n",
       "    </tr>\n",
       "  </tbody>\n",
       "</table>\n",
       "</div>"
      ],
      "text/plain": [
       "   alcohol  malic_acid   ash  alcalinity_of_ash  magnesium  total_phenols  \\\n",
       "0    14.23        1.71  2.43               15.6      127.0           2.80   \n",
       "1    13.20        1.78  2.14               11.2      100.0           2.65   \n",
       "2    13.16        2.36  2.67               18.6      101.0           2.80   \n",
       "3    14.37        1.95  2.50               16.8      113.0           3.85   \n",
       "4    13.24        2.59  2.87               21.0      118.0           2.80   \n",
       "\n",
       "   flavanoids  nonflavanoid_phenols  proanthocyanins  color_intensity   hue  \\\n",
       "0        3.06                  0.28             2.29             5.64  1.04   \n",
       "1        2.76                  0.26             1.28             4.38  1.05   \n",
       "2        3.24                  0.30             2.81             5.68  1.03   \n",
       "3        3.49                  0.24             2.18             7.80  0.86   \n",
       "4        2.69                  0.39             1.82             4.32  1.04   \n",
       "\n",
       "   od280/od315_of_diluted_wines  proline  \n",
       "0                          3.92   1065.0  \n",
       "1                          3.40   1050.0  \n",
       "2                          3.17   1185.0  \n",
       "3                          3.45   1480.0  \n",
       "4                          2.93    735.0  "
      ]
     },
     "execution_count": 21,
     "metadata": {},
     "output_type": "execute_result"
    }
   ],
   "source": [
    "X.head()"
   ]
  },
  {
   "cell_type": "code",
   "execution_count": 22,
   "metadata": {},
   "outputs": [
    {
     "data": {
      "text/plain": [
       "<AxesSubplot:>"
      ]
     },
     "execution_count": 22,
     "metadata": {},
     "output_type": "execute_result"
    },
    {
     "data": {
      "image/png": "[encoded data removed]",
      "text/plain": [
       "<Figure size 432x288 with 1 Axes>"
      ]
     },
     "metadata": {
      "needs_background": "light"
     },
     "output_type": "display_data"
    }
   ],
   "source": [
    "y.value_counts().plot.bar()"
   ]
  },
  {
   "cell_type": "code",
   "execution_count": 23,
   "metadata": {},
   "outputs": [
    {
     "data": {
      "text/plain": [
       "((133, 13), (45, 13))"
      ]
     },
     "execution_count": 23,
     "metadata": {},
     "output_type": "execute_result"
    }
   ],
   "source": [
    "X_train, X_val, y_train, y_val = train_test_split(X, y, random_state=0)\n",
    "X_train.shape, X_val.shape"
   ]
  },
  {
   "cell_type": "code",
   "execution_count": 24,
   "metadata": {},
   "outputs": [],
   "source": [
    "model = RandomForestClassifier(n_estimators=100, max_depth=3, ).fit(X_train, y_train)"
   ]
  },
  {
   "cell_type": "code",
   "execution_count": 25,
   "metadata": {},
   "outputs": [],
   "source": [
    "y_val_pred = model.predict(X_val)"
   ]
  },
  {
   "cell_type": "code",
   "execution_count": 26,
   "metadata": {},
   "outputs": [
    {
     "name": "stdout",
     "output_type": "stream",
     "text": [
      "Val ACC=0.9555555555555556\n"
     ]
    }
   ],
   "source": [
    "val_acc = accuracy_score(y_val, y_val_pred)\n",
    "print(f'Val ACC={val_acc}')"
   ]
  },
  {
   "cell_type": "code",
   "execution_count": 27,
   "metadata": {},
   "outputs": [
    {
     "name": "stdout",
     "output_type": "stream",
     "text": [
      "CPU times: user 3.73 s, sys: 12.8 ms, total: 3.75 s\n",
      "Wall time: 3.75 s\n"
     ]
    }
   ],
   "source": [
    "%%time\n",
    "# scoring names: https://scikit-learn.org/stable/modules/model_evaluation.html#scoring-parameter\n",
    "pfimp = permutation_importance(model, X_val, y_val, scoring=\"accuracy\", n_repeats=30, random_state=0)"
   ]
  },
  {
   "cell_type": "code",
   "execution_count": 28,
   "metadata": {},
   "outputs": [],
   "source": [
    "pfimp_score = pd.DataFrame({\n",
    "    \"feature\": X.columns,\n",
    "    \"value\": pfimp[\"importances_mean\"],\n",
    "}).sort_values(\"value\").set_index(\"feature\")\n",
    "\n",
    "pfimp_std = pd.DataFrame({\n",
    "    \"feature\": X.columns,\n",
    "    \"value\": pfimp[\"importances_std\"],\n",
    "}).sort_values(\"value\").set_index(\"feature\")"
   ]
  },
  {
   "cell_type": "code",
   "execution_count": 29,
   "metadata": {},
   "outputs": [
    {
     "data": {
      "text/html": [
       "<div>\n",
       "<style scoped>\n",
       "    .dataframe tbody tr th:only-of-type {\n",
       "        vertical-align: middle;\n",
       "    }\n",
       "\n",
       "    .dataframe tbody tr th {\n",
       "        vertical-align: top;\n",
       "    }\n",
       "\n",
       "    .dataframe thead th {\n",
       "        text-align: right;\n",
       "    }\n",
       "</style>\n",
       "<table border=\"1\" class=\"dataframe\">\n",
       "  <thead>\n",
       "    <tr style=\"text-align: right;\">\n",
       "      <th></th>\n",
       "      <th>value</th>\n",
       "    </tr>\n",
       "    <tr>\n",
       "      <th>feature</th>\n",
       "      <th></th>\n",
       "    </tr>\n",
       "  </thead>\n",
       "  <tbody>\n",
       "    <tr>\n",
       "      <th>hue</th>\n",
       "      <td>0.000000</td>\n",
       "    </tr>\n",
       "    <tr>\n",
       "      <th>od280/od315_of_diluted_wines</th>\n",
       "      <td>0.004444</td>\n",
       "    </tr>\n",
       "    <tr>\n",
       "      <th>proline</th>\n",
       "      <td>0.040000</td>\n",
       "    </tr>\n",
       "    <tr>\n",
       "      <th>alcohol</th>\n",
       "      <td>0.057778</td>\n",
       "    </tr>\n",
       "    <tr>\n",
       "      <th>color_intensity</th>\n",
       "      <td>0.081481</td>\n",
       "    </tr>\n",
       "  </tbody>\n",
       "</table>\n",
       "</div>"
      ],
      "text/plain": [
       "                                 value\n",
       "feature                               \n",
       "hue                           0.000000\n",
       "od280/od315_of_diluted_wines  0.004444\n",
       "proline                       0.040000\n",
       "alcohol                       0.057778\n",
       "color_intensity               0.081481"
      ]
     },
     "execution_count": 29,
     "metadata": {},
     "output_type": "execute_result"
    }
   ],
   "source": [
    "pfimp_score.tail(5)"
   ]
  },
  {
   "cell_type": "code",
   "execution_count": 30,
   "metadata": {},
   "outputs": [
    {
     "data": {
      "text/html": [
       "<div>\n",
       "<style scoped>\n",
       "    .dataframe tbody tr th:only-of-type {\n",
       "        vertical-align: middle;\n",
       "    }\n",
       "\n",
       "    .dataframe tbody tr th {\n",
       "        vertical-align: top;\n",
       "    }\n",
       "\n",
       "    .dataframe thead th {\n",
       "        text-align: right;\n",
       "    }\n",
       "</style>\n",
       "<table border=\"1\" class=\"dataframe\">\n",
       "  <thead>\n",
       "    <tr style=\"text-align: right;\">\n",
       "      <th></th>\n",
       "      <th>value</th>\n",
       "    </tr>\n",
       "    <tr>\n",
       "      <th>feature</th>\n",
       "      <th></th>\n",
       "    </tr>\n",
       "  </thead>\n",
       "  <tbody>\n",
       "    <tr>\n",
       "      <th>total_phenols</th>\n",
       "      <td>-0.010370</td>\n",
       "    </tr>\n",
       "    <tr>\n",
       "      <th>alcalinity_of_ash</th>\n",
       "      <td>-0.003704</td>\n",
       "    </tr>\n",
       "    <tr>\n",
       "      <th>proanthocyanins</th>\n",
       "      <td>-0.003704</td>\n",
       "    </tr>\n",
       "    <tr>\n",
       "      <th>flavanoids</th>\n",
       "      <td>-0.000741</td>\n",
       "    </tr>\n",
       "    <tr>\n",
       "      <th>malic_acid</th>\n",
       "      <td>0.000000</td>\n",
       "    </tr>\n",
       "  </tbody>\n",
       "</table>\n",
       "</div>"
      ],
      "text/plain": [
       "                      value\n",
       "feature                    \n",
       "total_phenols     -0.010370\n",
       "alcalinity_of_ash -0.003704\n",
       "proanthocyanins   -0.003704\n",
       "flavanoids        -0.000741\n",
       "malic_acid         0.000000"
      ]
     },
     "execution_count": 30,
     "metadata": {},
     "output_type": "execute_result"
    }
   ],
   "source": [
    "pfimp_score.head(5)"
   ]
  },
  {
   "cell_type": "code",
   "execution_count": 31,
   "metadata": {},
   "outputs": [
    {
     "data": {
      "text/plain": [
       "<AxesSubplot:ylabel='feature'>"
      ]
     },
     "execution_count": 31,
     "metadata": {},
     "output_type": "execute_result"
    },
    {
     "data": {
      "image/png": "[encoded data removed]",
      "text/plain": [
       "<Figure size 288x576 with 1 Axes>"
      ]
     },
     "metadata": {
      "needs_background": "light"
     },
     "output_type": "display_data"
    }
   ],
   "source": [
    "pfimp_score[\"value\"].plot.barh(figsize=(4, 8), xerr=pfimp_std)"
   ]
  },
  {
   "cell_type": "markdown",
   "metadata": {},
   "source": [
    "Explain:\n",
    "\n",
    "- Remove `color_intensity` increases accuracy score by ~0.055 on validation data.\n",
    "- Remove `od280/od315_of_diluted_wines` descreases accuracy score by ~0.022 on validation data."
   ]
  },
  {
   "cell_type": "markdown",
   "metadata": {},
   "source": [
    "# For Regression Problem"
   ]
  },
  {
   "cell_type": "code",
   "execution_count": 32,
   "metadata": {},
   "outputs": [],
   "source": [
    "X, y = load_regression()"
   ]
  },
  {
   "cell_type": "code",
   "execution_count": 33,
   "metadata": {},
   "outputs": [
    {
     "data": {
      "text/plain": [
       "((506, 13), (506,))"
      ]
     },
     "execution_count": 33,
     "metadata": {},
     "output_type": "execute_result"
    }
   ],
   "source": [
    "X.shape, y.shape"
   ]
  },
  {
   "cell_type": "code",
   "execution_count": 34,
   "metadata": {},
   "outputs": [
    {
     "data": {
      "text/html": [
       "<div>\n",
       "<style scoped>\n",
       "    .dataframe tbody tr th:only-of-type {\n",
       "        vertical-align: middle;\n",
       "    }\n",
       "\n",
       "    .dataframe tbody tr th {\n",
       "        vertical-align: top;\n",
       "    }\n",
       "\n",
       "    .dataframe thead th {\n",
       "        text-align: right;\n",
       "    }\n",
       "</style>\n",
       "<table border=\"1\" class=\"dataframe\">\n",
       "  <thead>\n",
       "    <tr style=\"text-align: right;\">\n",
       "      <th></th>\n",
       "      <th>CRIM</th>\n",
       "      <th>ZN</th>\n",
       "      <th>INDUS</th>\n",
       "      <th>CHAS</th>\n",
       "      <th>NOX</th>\n",
       "      <th>RM</th>\n",
       "      <th>AGE</th>\n",
       "      <th>DIS</th>\n",
       "      <th>RAD</th>\n",
       "      <th>TAX</th>\n",
       "      <th>PTRATIO</th>\n",
       "      <th>B</th>\n",
       "      <th>LSTAT</th>\n",
       "    </tr>\n",
       "  </thead>\n",
       "  <tbody>\n",
       "    <tr>\n",
       "      <th>0</th>\n",
       "      <td>0.00632</td>\n",
       "      <td>18.0</td>\n",
       "      <td>2.31</td>\n",
       "      <td>0.0</td>\n",
       "      <td>0.538</td>\n",
       "      <td>6.575</td>\n",
       "      <td>65.2</td>\n",
       "      <td>4.0900</td>\n",
       "      <td>1.0</td>\n",
       "      <td>296.0</td>\n",
       "      <td>15.3</td>\n",
       "      <td>396.90</td>\n",
       "      <td>4.98</td>\n",
       "    </tr>\n",
       "    <tr>\n",
       "      <th>1</th>\n",
       "      <td>0.02731</td>\n",
       "      <td>0.0</td>\n",
       "      <td>7.07</td>\n",
       "      <td>0.0</td>\n",
       "      <td>0.469</td>\n",
       "      <td>6.421</td>\n",
       "      <td>78.9</td>\n",
       "      <td>4.9671</td>\n",
       "      <td>2.0</td>\n",
       "      <td>242.0</td>\n",
       "      <td>17.8</td>\n",
       "      <td>396.90</td>\n",
       "      <td>9.14</td>\n",
       "    </tr>\n",
       "    <tr>\n",
       "      <th>2</th>\n",
       "      <td>0.02729</td>\n",
       "      <td>0.0</td>\n",
       "      <td>7.07</td>\n",
       "      <td>0.0</td>\n",
       "      <td>0.469</td>\n",
       "      <td>7.185</td>\n",
       "      <td>61.1</td>\n",
       "      <td>4.9671</td>\n",
       "      <td>2.0</td>\n",
       "      <td>242.0</td>\n",
       "      <td>17.8</td>\n",
       "      <td>392.83</td>\n",
       "      <td>4.03</td>\n",
       "    </tr>\n",
       "    <tr>\n",
       "      <th>3</th>\n",
       "      <td>0.03237</td>\n",
       "      <td>0.0</td>\n",
       "      <td>2.18</td>\n",
       "      <td>0.0</td>\n",
       "      <td>0.458</td>\n",
       "      <td>6.998</td>\n",
       "      <td>45.8</td>\n",
       "      <td>6.0622</td>\n",
       "      <td>3.0</td>\n",
       "      <td>222.0</td>\n",
       "      <td>18.7</td>\n",
       "      <td>394.63</td>\n",
       "      <td>2.94</td>\n",
       "    </tr>\n",
       "    <tr>\n",
       "      <th>4</th>\n",
       "      <td>0.06905</td>\n",
       "      <td>0.0</td>\n",
       "      <td>2.18</td>\n",
       "      <td>0.0</td>\n",
       "      <td>0.458</td>\n",
       "      <td>7.147</td>\n",
       "      <td>54.2</td>\n",
       "      <td>6.0622</td>\n",
       "      <td>3.0</td>\n",
       "      <td>222.0</td>\n",
       "      <td>18.7</td>\n",
       "      <td>396.90</td>\n",
       "      <td>5.33</td>\n",
       "    </tr>\n",
       "  </tbody>\n",
       "</table>\n",
       "</div>"
      ],
      "text/plain": [
       "      CRIM    ZN  INDUS  CHAS    NOX     RM   AGE     DIS  RAD    TAX  \\\n",
       "0  0.00632  18.0   2.31   0.0  0.538  6.575  65.2  4.0900  1.0  296.0   \n",
       "1  0.02731   0.0   7.07   0.0  0.469  6.421  78.9  4.9671  2.0  242.0   \n",
       "2  0.02729   0.0   7.07   0.0  0.469  7.185  61.1  4.9671  2.0  242.0   \n",
       "3  0.03237   0.0   2.18   0.0  0.458  6.998  45.8  6.0622  3.0  222.0   \n",
       "4  0.06905   0.0   2.18   0.0  0.458  7.147  54.2  6.0622  3.0  222.0   \n",
       "\n",
       "   PTRATIO       B  LSTAT  \n",
       "0     15.3  396.90   4.98  \n",
       "1     17.8  396.90   9.14  \n",
       "2     17.8  392.83   4.03  \n",
       "3     18.7  394.63   2.94  \n",
       "4     18.7  396.90   5.33  "
      ]
     },
     "execution_count": 34,
     "metadata": {},
     "output_type": "execute_result"
    }
   ],
   "source": [
    "X.head()"
   ]
  },
  {
   "cell_type": "code",
   "execution_count": 35,
   "metadata": {},
   "outputs": [
    {
     "data": {
      "text/plain": [
       "<AxesSubplot:ylabel='Frequency'>"
      ]
     },
     "execution_count": 35,
     "metadata": {},
     "output_type": "execute_result"
    },
    {
     "data": {
      "image/png": "[encoded data removed]",
      "text/plain": [
       "<Figure size 432x288 with 1 Axes>"
      ]
     },
     "metadata": {
      "needs_background": "light"
     },
     "output_type": "display_data"
    }
   ],
   "source": [
    "y.plot.hist()"
   ]
  },
  {
   "cell_type": "code",
   "execution_count": 36,
   "metadata": {},
   "outputs": [
    {
     "data": {
      "text/plain": [
       "((379, 13), (127, 13))"
      ]
     },
     "execution_count": 36,
     "metadata": {},
     "output_type": "execute_result"
    }
   ],
   "source": [
    "X_train, X_val, y_train, y_val = train_test_split(X, y, random_state=0)\n",
    "X_train.shape, X_val.shape"
   ]
  },
  {
   "cell_type": "code",
   "execution_count": 37,
   "metadata": {},
   "outputs": [],
   "source": [
    "model = RandomForestRegressor(n_estimators=100, max_depth=3).fit(X_train, y_train)"
   ]
  },
  {
   "cell_type": "code",
   "execution_count": 38,
   "metadata": {},
   "outputs": [],
   "source": [
    "y_val_pred = model.predict(X_val)"
   ]
  },
  {
   "cell_type": "code",
   "execution_count": 39,
   "metadata": {},
   "outputs": [],
   "source": [
    "def root_mean_square_error(y_true, y_pred):\n",
    "    return np.mean((y_true - y_pred)**2)**0.5\n",
    "\n",
    "rmse = make_scorer(root_mean_square_error, greater_is_better=False)"
   ]
  },
  {
   "cell_type": "code",
   "execution_count": 40,
   "metadata": {},
   "outputs": [
    {
     "name": "stdout",
     "output_type": "stream",
     "text": [
      "Val RMSE=4.554735017211266\n"
     ]
    }
   ],
   "source": [
    "val_rmse = root_mean_square_error(y_val, y_val_pred)\n",
    "print(f'Val RMSE={val_rmse}')"
   ]
  },
  {
   "cell_type": "code",
   "execution_count": 41,
   "metadata": {},
   "outputs": [
    {
     "name": "stdout",
     "output_type": "stream",
     "text": [
      "CPU times: user 3.2 s, sys: 22.3 ms, total: 3.22 s\n",
      "Wall time: 3.24 s\n"
     ]
    }
   ],
   "source": [
    "%%time\n",
    "# scoring names: https://scikit-learn.org/stable/modules/model_evaluation.html#scoring-parameter\n",
    "pfimp = permutation_importance(model, X_val, y_val, scoring=rmse, n_repeats=30, random_state=0)"
   ]
  },
  {
   "cell_type": "code",
   "execution_count": 42,
   "metadata": {},
   "outputs": [],
   "source": [
    "pfimp_score = pd.DataFrame({\n",
    "    \"feature\": X.columns,\n",
    "    \"value\": pfimp[\"importances_mean\"],\n",
    "}).sort_values(\"value\").set_index(\"feature\")\n",
    "\n",
    "pfimp_std = pd.DataFrame({\n",
    "    \"feature\": X.columns,\n",
    "    \"value\": pfimp[\"importances_std\"],\n",
    "}).sort_values(\"value\").set_index(\"feature\")"
   ]
  },
  {
   "cell_type": "code",
   "execution_count": 43,
   "metadata": {},
   "outputs": [
    {
     "data": {
      "text/html": [
       "<div>\n",
       "<style scoped>\n",
       "    .dataframe tbody tr th:only-of-type {\n",
       "        vertical-align: middle;\n",
       "    }\n",
       "\n",
       "    .dataframe tbody tr th {\n",
       "        vertical-align: top;\n",
       "    }\n",
       "\n",
       "    .dataframe thead th {\n",
       "        text-align: right;\n",
       "    }\n",
       "</style>\n",
       "<table border=\"1\" class=\"dataframe\">\n",
       "  <thead>\n",
       "    <tr style=\"text-align: right;\">\n",
       "      <th></th>\n",
       "      <th>value</th>\n",
       "    </tr>\n",
       "    <tr>\n",
       "      <th>feature</th>\n",
       "      <th></th>\n",
       "    </tr>\n",
       "  </thead>\n",
       "  <tbody>\n",
       "    <tr>\n",
       "      <th>PTRATIO</th>\n",
       "      <td>0.181758</td>\n",
       "    </tr>\n",
       "    <tr>\n",
       "      <th>CRIM</th>\n",
       "      <td>0.223625</td>\n",
       "    </tr>\n",
       "    <tr>\n",
       "      <th>DIS</th>\n",
       "      <td>0.416178</td>\n",
       "    </tr>\n",
       "    <tr>\n",
       "      <th>RM</th>\n",
       "      <td>2.638083</td>\n",
       "    </tr>\n",
       "    <tr>\n",
       "      <th>LSTAT</th>\n",
       "      <td>3.466318</td>\n",
       "    </tr>\n",
       "  </tbody>\n",
       "</table>\n",
       "</div>"
      ],
      "text/plain": [
       "            value\n",
       "feature          \n",
       "PTRATIO  0.181758\n",
       "CRIM     0.223625\n",
       "DIS      0.416178\n",
       "RM       2.638083\n",
       "LSTAT    3.466318"
      ]
     },
     "execution_count": 43,
     "metadata": {},
     "output_type": "execute_result"
    }
   ],
   "source": [
    "pfimp_score.tail(5)"
   ]
  },
  {
   "cell_type": "code",
   "execution_count": 44,
   "metadata": {},
   "outputs": [
    {
     "data": {
      "text/html": [
       "<div>\n",
       "<style scoped>\n",
       "    .dataframe tbody tr th:only-of-type {\n",
       "        vertical-align: middle;\n",
       "    }\n",
       "\n",
       "    .dataframe tbody tr th {\n",
       "        vertical-align: top;\n",
       "    }\n",
       "\n",
       "    .dataframe thead th {\n",
       "        text-align: right;\n",
       "    }\n",
       "</style>\n",
       "<table border=\"1\" class=\"dataframe\">\n",
       "  <thead>\n",
       "    <tr style=\"text-align: right;\">\n",
       "      <th></th>\n",
       "      <th>value</th>\n",
       "    </tr>\n",
       "    <tr>\n",
       "      <th>feature</th>\n",
       "      <th></th>\n",
       "    </tr>\n",
       "  </thead>\n",
       "  <tbody>\n",
       "    <tr>\n",
       "      <th>INDUS</th>\n",
       "      <td>-0.007843</td>\n",
       "    </tr>\n",
       "    <tr>\n",
       "      <th>CHAS</th>\n",
       "      <td>-0.002099</td>\n",
       "    </tr>\n",
       "    <tr>\n",
       "      <th>AGE</th>\n",
       "      <td>-0.001520</td>\n",
       "    </tr>\n",
       "    <tr>\n",
       "      <th>ZN</th>\n",
       "      <td>0.000000</td>\n",
       "    </tr>\n",
       "    <tr>\n",
       "      <th>B</th>\n",
       "      <td>0.002511</td>\n",
       "    </tr>\n",
       "  </tbody>\n",
       "</table>\n",
       "</div>"
      ],
      "text/plain": [
       "            value\n",
       "feature          \n",
       "INDUS   -0.007843\n",
       "CHAS    -0.002099\n",
       "AGE     -0.001520\n",
       "ZN       0.000000\n",
       "B        0.002511"
      ]
     },
     "execution_count": 44,
     "metadata": {},
     "output_type": "execute_result"
    }
   ],
   "source": [
    "pfimp_score.head(5)"
   ]
  },
  {
   "cell_type": "code",
   "execution_count": 45,
   "metadata": {},
   "outputs": [
    {
     "data": {
      "text/plain": [
       "<AxesSubplot:ylabel='feature'>"
      ]
     },
     "execution_count": 45,
     "metadata": {},
     "output_type": "execute_result"
    },
    {
     "data": {
      "image/png": "[encoded data removed]",
      "text/plain": [
       "<Figure size 288x576 with 1 Axes>"
      ]
     },
     "metadata": {
      "needs_background": "light"
     },
     "output_type": "display_data"
    }
   ],
   "source": [
    "pfimp_score[\"value\"].plot.barh(figsize=(4, 8), xerr=pfimp_std)"
   ]
  },
  {
   "cell_type": "markdown",
   "metadata": {},
   "source": [
    "Explain:\n",
    "\n",
    "- Remove `LSTAT` increases rmse score by ~3.6 on validation data."
   ]
  },
  {
   "cell_type": "code",
   "execution_count": 46,
   "metadata": {},
   "outputs": [
    {
     "data": {
      "text/plain": [
       "11.237729009690439"
      ]
     },
     "execution_count": 46,
     "metadata": {},
     "output_type": "execute_result"
    }
   ],
   "source": [
    "X_val_permuted = X_val.copy()\n",
    "X_val_permuted[\"LSTAT\"] = np.random.randn(len(X_val))\n",
    "y_val_permuted_pred = model.predict(X_val_permuted)\n",
    "root_mean_square_error(y_val, y_val_permuted_pred)"
   ]
  },
  {
   "cell_type": "markdown",
   "metadata": {},
   "source": [
    "# End"
   ]
  }
 ],
 "metadata": {
  "kernelspec": {
   "display_name": "Python 3",
   "language": "python",
   "name": "python3"
  },
  "language_info": {
   "codemirror_mode": {
    "name": "ipython",
    "version": 3
   },
   "file_extension": ".py",
   "mimetype": "text/x-python",
   "name": "python",
   "nbconvert_exporter": "python",
   "pygments_lexer": "ipython3",
   "version": "3.6.12-final"
  }
 },
 "nbformat": 4,
 "nbformat_minor": 4
}